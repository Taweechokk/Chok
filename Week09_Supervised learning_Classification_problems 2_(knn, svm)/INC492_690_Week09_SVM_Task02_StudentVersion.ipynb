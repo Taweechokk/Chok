{
  "cells": [
    {
      "cell_type": "markdown",
      "metadata": {
        "id": "GlvrujP1cxPk"
      },
      "source": [
        "# Week09 - Support Vector Machines\n",
        "# INC492-690: INTRODUCTION TO DATA SCIENCE\n",
        "\n",
        "Created by Teema Leangarun\n",
        "\n",
        "___\n"
      ]
    },
    {
      "cell_type": "markdown",
      "source": [
        "**Student name:**\n",
        "\n",
        "**Student ID:**"
      ],
      "metadata": {
        "id": "gZBtb8ByknIF"
      }
    },
    {
      "cell_type": "markdown",
      "source": [
        "# The Data\n",
        "\n",
        "For this series of lectures, we will be using the famous\n",
        "[Iris flower data set]\n",
        "(http://en.wikipedia.org/wiki/Iris_flower_data_set).\n",
        "\n",
        "\n",
        "The Iris flower data set or Fisher's Iris data set is a multivariate data set introduced by Sir Ronald Fisher in the 1936 as an example of discriminant analysis.\n",
        "\n",
        "\n",
        "The data set consists of 50 samples from each of three species of Iris (Iris setosa, Iris virginica and Iris versicolor), so 150 total samples.\n",
        "\n",
        "Four features were measured from each sample: the length and the width of the sepals and petals, in centimeters.\n",
        "\n",
        "Here's a picture of the three different Iris types:"
      ],
      "metadata": {
        "id": "4ApptmCmi5xU"
      }
    },
    {
      "cell_type": "code",
      "execution_count": null,
      "metadata": {
        "id": "i8IkKCEecxPo"
      },
      "outputs": [],
      "source": [
        "# The Iris Setosa\n",
        "from IPython.display import Image\n",
        "url = 'http://upload.wikimedia.org/wikipedia/commons/5/56/Kosaciec_szczecinkowaty_Iris_setosa.jpg'\n",
        "Image(url,width=300, height=300)"
      ]
    },
    {
      "cell_type": "code",
      "execution_count": null,
      "metadata": {
        "id": "E59qQTsBcxPq"
      },
      "outputs": [],
      "source": [
        "# The Iris Versicolor\n",
        "from IPython.display import Image\n",
        "url = 'http://upload.wikimedia.org/wikipedia/commons/4/41/Iris_versicolor_3.jpg'\n",
        "Image(url,width=300, height=300)"
      ]
    },
    {
      "cell_type": "code",
      "execution_count": null,
      "metadata": {
        "id": "BIgVPjjDcxPs"
      },
      "outputs": [],
      "source": [
        "# The Iris Virginica\n",
        "from IPython.display import Image\n",
        "url = 'http://upload.wikimedia.org/wikipedia/commons/9/9f/Iris_virginica.jpg'\n",
        "Image(url,width=300, height=300)"
      ]
    },
    {
      "cell_type": "markdown",
      "metadata": {
        "id": "cEAmiqW_cxPt"
      },
      "source": [
        "The iris dataset contains measurements for 150 iris flowers from three different species.\n",
        "\n",
        "The three classes in the Iris dataset:\n",
        "\n",
        "    Iris-setosa (n=50)\n",
        "    Iris-versicolor (n=50)\n",
        "    Iris-virginica (n=50)\n",
        "\n",
        "The four features of the Iris dataset:\n",
        "\n",
        "    sepal length in cm\n",
        "    sepal width in cm\n",
        "    petal length in cm\n",
        "    petal width in cm"
      ]
    },
    {
      "cell_type": "markdown",
      "source": [
        "# 1) Get the data\n",
        "\n",
        "**Use seaborn to get the iris data by using: iris = sns.load_dataset('iris') **"
      ],
      "metadata": {
        "id": "3UOnfkVfdOQK"
      }
    },
    {
      "cell_type": "code",
      "execution_count": null,
      "metadata": {
        "collapsed": true,
        "id": "7s7Kuug7cxPu"
      },
      "outputs": [],
      "source": [
        "# Enter your code here"
      ]
    },
    {
      "cell_type": "markdown",
      "metadata": {
        "id": "7iO-mv33cxPu"
      },
      "source": [
        "# 2) Exploratory Data Analysis\n",
        "\n",
        "Time to put your data viz skills to the test! Try to recreate the following plots, make sure to import the libraries you'll need!\n",
        "\n",
        "**Import some libraries you think you'll need.**"
      ]
    },
    {
      "cell_type": "code",
      "execution_count": null,
      "metadata": {
        "collapsed": true,
        "id": "nIZi11tBcxPu"
      },
      "outputs": [],
      "source": [
        "# Enter your code here"
      ]
    },
    {
      "cell_type": "markdown",
      "metadata": {
        "id": "TbvzAs6vcxPv"
      },
      "source": [
        "Create a pairplot of the data set."
      ]
    },
    {
      "cell_type": "markdown",
      "source": [
        "\n",
        "**Q1) Which flower species seems to be the most separable?**\n",
        "\n",
        "Answer:"
      ],
      "metadata": {
        "id": "nYKsfqA2jjGd"
      }
    },
    {
      "cell_type": "code",
      "execution_count": null,
      "metadata": {
        "id": "-NvCr0ShcxPv"
      },
      "outputs": [],
      "source": [
        "# Enter your code here"
      ]
    },
    {
      "cell_type": "markdown",
      "metadata": {
        "id": "_6jVPhj4cxPv"
      },
      "source": [
        "**Create a kde plot of sepal_length versus sepal width for setosa species of flower.**"
      ]
    },
    {
      "cell_type": "code",
      "execution_count": null,
      "metadata": {
        "id": "YfHmfCCkcxPw"
      },
      "outputs": [],
      "source": [
        "setosa = iris[iris['species']=='setosa']\n",
        "sns.kdeplot(setosa['sepal_width'], setosa['sepal_length'],cmap=\"plasma\", shade=True, shade_lowest=False)"
      ]
    },
    {
      "cell_type": "markdown",
      "metadata": {
        "collapsed": false,
        "id": "cpBhT0TdcxPw"
      },
      "source": [
        "# 3) Train Test Split\n",
        "\n",
        "** Split your data into a training set and a testing set (30%).**"
      ]
    },
    {
      "cell_type": "code",
      "execution_count": null,
      "metadata": {
        "collapsed": true,
        "id": "Dmo8mesWcxPx"
      },
      "outputs": [],
      "source": [
        "# Enter your code here"
      ]
    },
    {
      "cell_type": "code",
      "execution_count": null,
      "metadata": {
        "id": "m6dRFQOEcxPx"
      },
      "outputs": [],
      "source": [
        "# Enter your code here"
      ]
    },
    {
      "cell_type": "markdown",
      "metadata": {
        "id": "o8_MOAfGcxPx"
      },
      "source": [
        "# 4) Train a Model\n",
        "\n",
        "Now its time to train a Support Vector Machine Classifier.\n",
        "\n",
        "**Call the SVC() model from sklearn and fit the model to the training data.**"
      ]
    },
    {
      "cell_type": "code",
      "execution_count": null,
      "metadata": {
        "collapsed": true,
        "id": "qaSaKj8NcxPy"
      },
      "outputs": [],
      "source": [
        "# Enter your code here"
      ]
    },
    {
      "cell_type": "code",
      "execution_count": null,
      "metadata": {
        "collapsed": true,
        "id": "nKDcMnwKcxPy"
      },
      "outputs": [],
      "source": [
        "# Enter your code here"
      ]
    },
    {
      "cell_type": "code",
      "execution_count": null,
      "metadata": {
        "id": "g9PfhURycxPy"
      },
      "outputs": [],
      "source": [
        "# Enter your code here"
      ]
    },
    {
      "cell_type": "markdown",
      "metadata": {
        "collapsed": true,
        "id": "74fyKfS6cxPy"
      },
      "source": [
        "# 5) Model Evaluation\n",
        "\n",
        "**Now get predictions from the model and create a confusion matrix and a classification report.**"
      ]
    },
    {
      "cell_type": "code",
      "execution_count": null,
      "metadata": {
        "collapsed": true,
        "id": "6MZkHJZ0cxPz"
      },
      "outputs": [],
      "source": [
        "# Enter your code here"
      ]
    },
    {
      "cell_type": "code",
      "execution_count": null,
      "metadata": {
        "collapsed": true,
        "id": "mvdXhFrwcxPz"
      },
      "outputs": [],
      "source": [
        "# Enter your code here"
      ]
    },
    {
      "cell_type": "code",
      "execution_count": null,
      "metadata": {
        "id": "RnUnQIN0cxP0"
      },
      "outputs": [],
      "source": [
        "# print confusion matrix\n",
        "\n",
        "# Enter your code here"
      ]
    },
    {
      "cell_type": "code",
      "execution_count": null,
      "metadata": {
        "id": "CG5KaBfUcxP0"
      },
      "outputs": [],
      "source": [
        "# print classification_report\n",
        "\n",
        "# Enter your code here"
      ]
    },
    {
      "cell_type": "markdown",
      "metadata": {
        "id": "i2tcoirBcxP0"
      },
      "source": [
        "Wow! You should have noticed that your model was pretty good! Let's see if we can tune the parameters to try to get even better (unlikely, and you probably would be satisfied with these results in real like because the data set is quite small, but I just want you to practice using GridSearch."
      ]
    },
    {
      "cell_type": "markdown",
      "metadata": {
        "id": "8_GyAJq-cxP1"
      },
      "source": [
        "# 6) Gridsearch Practice\n",
        "\n",
        "** Import GridsearchCV from SciKit Learn.**"
      ]
    },
    {
      "cell_type": "code",
      "execution_count": null,
      "metadata": {
        "collapsed": true,
        "id": "rztZv18RcxP1"
      },
      "outputs": [],
      "source": [
        "# Enter your code here"
      ]
    },
    {
      "cell_type": "markdown",
      "metadata": {
        "id": "UJ_TxGWqcxP1"
      },
      "source": [
        "**Create a dictionary called param_grid and fill out some parameters for C and gamma.**"
      ]
    },
    {
      "cell_type": "code",
      "execution_count": null,
      "metadata": {
        "collapsed": true,
        "id": "q0Xxf6-YcxP1"
      },
      "outputs": [],
      "source": [
        "param_grid = {'C': [0.1, 1, 10, 100], 'gamma': [1, 0.1, 0.01, 0.001]}"
      ]
    },
    {
      "cell_type": "markdown",
      "metadata": {
        "id": "l4y89rAXcxP1"
      },
      "source": [
        "** Create a GridSearchCV object and fit it to the training data.**"
      ]
    },
    {
      "cell_type": "code",
      "execution_count": null,
      "metadata": {
        "id": "V7BVerT1cxP1"
      },
      "outputs": [],
      "source": [
        "# Enter your code here"
      ]
    },
    {
      "cell_type": "markdown",
      "metadata": {
        "id": "mA-YdMcJcxP2"
      },
      "source": [
        "** Now take that grid model and create some predictions using the test set and create classification reports and confusion matrices for them.**"
      ]
    },
    {
      "cell_type": "code",
      "execution_count": null,
      "metadata": {
        "collapsed": true,
        "id": "XvmMDtKhcxP2"
      },
      "outputs": [],
      "source": [
        "# Enter your code here"
      ]
    },
    {
      "cell_type": "code",
      "execution_count": null,
      "metadata": {
        "id": "M4BO8NKKcxP2"
      },
      "outputs": [],
      "source": [
        "# print confusion matrix\n",
        "\n",
        "# Enter your code here"
      ]
    },
    {
      "cell_type": "code",
      "execution_count": null,
      "metadata": {
        "id": "YlhRi7w0cxP2"
      },
      "outputs": [],
      "source": [
        "# print classification_report\n",
        "\n",
        "# Enter your code here"
      ]
    },
    {
      "cell_type": "markdown",
      "source": [
        "**Q2) Were you able to improve? Explain..**\n",
        "\n",
        "Answer:"
      ],
      "metadata": {
        "id": "dROlFw5HkgRY"
      }
    },
    {
      "cell_type": "markdown",
      "metadata": {
        "id": "AtD6LUDJcxP3"
      },
      "source": [
        "You should have done about the same or exactly the same, this makes sense, there is basically just one point that is too noisey to grab, which makes sense, we don't want to have an overfit model that would be able to grab that."
      ]
    },
    {
      "cell_type": "markdown",
      "metadata": {
        "id": "EDE-DdzycxP3"
      },
      "source": [
        "## Great Job!"
      ]
    }
  ],
  "metadata": {
    "kernelspec": {
      "display_name": "Python 3",
      "language": "python",
      "name": "python3"
    },
    "language_info": {
      "codemirror_mode": {
        "name": "ipython",
        "version": 3
      },
      "file_extension": ".py",
      "mimetype": "text/x-python",
      "name": "python",
      "nbconvert_exporter": "python",
      "pygments_lexer": "ipython3",
      "version": "3.5.1"
    },
    "colab": {
      "provenance": [],
      "collapsed_sections": [
        "4ApptmCmi5xU",
        "3UOnfkVfdOQK",
        "7iO-mv33cxPu",
        "cpBhT0TdcxPw",
        "o8_MOAfGcxPx",
        "74fyKfS6cxPy"
      ]
    }
  },
  "nbformat": 4,
  "nbformat_minor": 0
}