{
  "nbformat": 4,
  "nbformat_minor": 0,
  "metadata": {
    "colab": {
      "provenance": [],
      "include_colab_link": true
    },
    "kernelspec": {
      "name": "python3",
      "display_name": "Python 3"
    },
    "language_info": {
      "name": "python"
    }
  },
  "cells": [
    {
      "cell_type": "markdown",
      "metadata": {
        "id": "view-in-github",
        "colab_type": "text"
      },
      "source": [
        "<a href=\"https://colab.research.google.com/github/Taweechokk/INC492/blob/main/Pandas_Exercise_(1).ipynb\" target=\"_parent\"><img src=\"https://colab.research.google.com/assets/colab-badge.svg\" alt=\"Open In Colab\"/></a>"
      ]
    },
    {
      "cell_type": "markdown",
      "source": [
        "# **INC492: Introduction to Data Science**\n",
        "\n",
        "Week02 - Python for Data Science\n",
        "-----------------------------------\n",
        "Dr. Teema Leangarun\n",
        "\n",
        "Department of Controls System and Instrumentation Engineering\n",
        "\n",
        "Facullty of Engineering, KMUTT"
      ],
      "metadata": {
        "id": "vsXFNFSLkkd2"
      }
    },
    {
      "cell_type": "markdown",
      "source": [
        "Student name: xxxxxxxxx\n",
        "\n",
        "Student ID: xxxxxxxxxx"
      ],
      "metadata": {
        "id": "IvACXk1qkrry"
      }
    },
    {
      "cell_type": "markdown",
      "source": [
        "#Pandas Exercise"
      ],
      "metadata": {
        "id": "gWr-exNgM4u7"
      }
    },
    {
      "cell_type": "markdown",
      "source": [
        "##Exercise 1\n",
        "Write a Pandas program to add, subtract, multiple, divide and compare two Pandas Series.<br>\n",
        "Given Series:\n",
        "```\n",
        "series_1 = [92, 82, 44, 79, 58, 0]\n",
        "series_2 = [22, 31, 36, 71, 58, 15]\n",
        "```\n",
        "\n"
      ],
      "metadata": {
        "id": "O2jUDn-thniL"
      }
    },
    {
      "cell_type": "code",
      "source": [
        "#import pandas library and name it to be pd\n",
        "import pandas as pd"
      ],
      "metadata": {
        "id": "7msMQBh2h-xk"
      },
      "execution_count": null,
      "outputs": []
    },
    {
      "cell_type": "code",
      "source": [
        "#create series\n",
        "series_1 = [92, 82, 44, 79, 58, 0]\n",
        "series_1 = pd.Series(data = series_1)\n",
        "print(series_1)"
      ],
      "metadata": {
        "id": "9o0lLsIHiVGY",
        "colab": {
          "base_uri": "https://localhost:8080/"
        },
        "outputId": "e54a516d-0929-4bbb-c658-7111f996f236"
      },
      "execution_count": null,
      "outputs": [
        {
          "output_type": "stream",
          "name": "stdout",
          "text": [
            "0    92\n",
            "1    82\n",
            "2    44\n",
            "3    79\n",
            "4    58\n",
            "5     0\n",
            "dtype: int64\n"
          ]
        }
      ]
    },
    {
      "cell_type": "code",
      "source": [
        "series_2 = [22, 31, 36, 71, 58, 15]\n",
        "series_2 = pd.Series(data = series_2)\n",
        "print(series_2)"
      ],
      "metadata": {
        "colab": {
          "base_uri": "https://localhost:8080/"
        },
        "id": "QJNtSbe9IVYw",
        "outputId": "98848ab2-367c-487b-812f-c09ae1caf94e"
      },
      "execution_count": null,
      "outputs": [
        {
          "output_type": "stream",
          "name": "stdout",
          "text": [
            "0    22\n",
            "1    31\n",
            "2    36\n",
            "3    71\n",
            "4    58\n",
            "5    15\n",
            "dtype: int64\n"
          ]
        }
      ]
    },
    {
      "cell_type": "markdown",
      "source": [
        "###Q 1.1\n",
        "add, subtract, multiply and divide to the element of the two series"
      ],
      "metadata": {
        "id": "9t6XQn_R5D5e"
      }
    },
    {
      "cell_type": "code",
      "source": [
        "#add\n",
        "add = series_1+series_2\n",
        "#display add result\n",
        "add"
      ],
      "metadata": {
        "id": "dy6ufyN7idvo",
        "colab": {
          "base_uri": "https://localhost:8080/"
        },
        "outputId": "d165bb0d-afe7-4c25-ed0c-d3b5125b5104"
      },
      "execution_count": null,
      "outputs": [
        {
          "output_type": "execute_result",
          "data": {
            "text/plain": [
              "0    114\n",
              "1    113\n",
              "2     80\n",
              "3    150\n",
              "4    116\n",
              "5     15\n",
              "dtype: int64"
            ]
          },
          "metadata": {},
          "execution_count": 24
        }
      ]
    },
    {
      "cell_type": "code",
      "source": [
        "#subtract\n",
        "subtract = series_1-series_2\n",
        "#display subtract result\n",
        "subtract"
      ],
      "metadata": {
        "id": "L5F_9Vf64mT2",
        "colab": {
          "base_uri": "https://localhost:8080/"
        },
        "outputId": "006a7482-4175-4528-9558-b7e8a8c9b6aa"
      },
      "execution_count": null,
      "outputs": [
        {
          "output_type": "execute_result",
          "data": {
            "text/plain": [
              "0    70\n",
              "1    51\n",
              "2     8\n",
              "3     8\n",
              "4     0\n",
              "5   -15\n",
              "dtype: int64"
            ]
          },
          "metadata": {},
          "execution_count": 10
        }
      ]
    },
    {
      "cell_type": "code",
      "source": [
        "#multiply\n",
        "multiply = series_1*series_2\n",
        "#display multiply result\n",
        "multiply"
      ],
      "metadata": {
        "id": "yPnst6RA4lZu",
        "colab": {
          "base_uri": "https://localhost:8080/"
        },
        "outputId": "5b7bc4e6-cdb3-46b9-947e-74ca5bc13c31"
      },
      "execution_count": null,
      "outputs": [
        {
          "output_type": "execute_result",
          "data": {
            "text/plain": [
              "0    2024\n",
              "1    2542\n",
              "2    1584\n",
              "3    5609\n",
              "4    3364\n",
              "5       0\n",
              "dtype: int64"
            ]
          },
          "metadata": {},
          "execution_count": 11
        }
      ]
    },
    {
      "cell_type": "code",
      "source": [
        "#divide\n",
        "divide = series_1/series_2\n",
        "#display diveide result\n",
        "divide"
      ],
      "metadata": {
        "id": "NlSIRtl84kDY",
        "colab": {
          "base_uri": "https://localhost:8080/"
        },
        "outputId": "25dc882f-25ee-4bdb-be83-aba38579f135"
      },
      "execution_count": null,
      "outputs": [
        {
          "output_type": "execute_result",
          "data": {
            "text/plain": [
              "0    4.181818\n",
              "1    2.645161\n",
              "2    1.222222\n",
              "3    1.112676\n",
              "4    1.000000\n",
              "5    0.000000\n",
              "dtype: float64"
            ]
          },
          "metadata": {},
          "execution_count": 12
        }
      ]
    },
    {
      "cell_type": "code",
      "source": [
        "#compare\n",
        "print(\"Series1:\")\n",
        "print(series_1)\n",
        "print(\"Series2:\")\n",
        "print(series_2)"
      ],
      "metadata": {
        "id": "V_RWmTjSiZEn",
        "colab": {
          "base_uri": "https://localhost:8080/"
        },
        "outputId": "e24a9335-c402-4151-9101-5d63d5525872"
      },
      "execution_count": null,
      "outputs": [
        {
          "output_type": "stream",
          "name": "stdout",
          "text": [
            "Series1:\n",
            "0    92\n",
            "1    82\n",
            "2    44\n",
            "3    79\n",
            "4    58\n",
            "5     0\n",
            "dtype: int64\n",
            "Series2:\n",
            "0    22\n",
            "1    31\n",
            "2    36\n",
            "3    71\n",
            "4    58\n",
            "5    15\n",
            "dtype: int64\n"
          ]
        }
      ]
    },
    {
      "cell_type": "markdown",
      "source": [
        "###Q 1.2\n",
        "Compare the elements of the said Series:"
      ],
      "metadata": {
        "id": "rbF6_E7s4-7j"
      }
    },
    {
      "cell_type": "code",
      "source": [
        "#Equal\n",
        "Equal = series_1==series_2\n",
        "print(\"Equal:\")\n",
        "print(Equal)"
      ],
      "metadata": {
        "id": "wRK1GUQD4uwZ",
        "colab": {
          "base_uri": "https://localhost:8080/"
        },
        "outputId": "4afafb16-3376-4825-da9d-419233bcda9f"
      },
      "execution_count": null,
      "outputs": [
        {
          "output_type": "stream",
          "name": "stdout",
          "text": [
            "Equal:\n",
            "0    False\n",
            "1    False\n",
            "2    False\n",
            "3    False\n",
            "4     True\n",
            "5    False\n",
            "dtype: bool\n"
          ]
        }
      ]
    },
    {
      "cell_type": "code",
      "source": [
        "#Greater than\n",
        "Greater_than = series_1>series_2\n",
        "print(\"Greater_than:\")\n",
        "print(Greater_than)"
      ],
      "metadata": {
        "id": "GGGby_KL4tuJ",
        "colab": {
          "base_uri": "https://localhost:8080/"
        },
        "outputId": "b22d870a-be66-4eb0-b1a0-6ce3a8375323"
      },
      "execution_count": null,
      "outputs": [
        {
          "output_type": "stream",
          "name": "stdout",
          "text": [
            "Greater_than:\n",
            "0     True\n",
            "1     True\n",
            "2     True\n",
            "3     True\n",
            "4    False\n",
            "5    False\n",
            "dtype: bool\n"
          ]
        }
      ]
    },
    {
      "cell_type": "code",
      "source": [
        "#Less than\n",
        "Less_than = series_1<series_2\n",
        "print(\"Greater_than:\")\n",
        "print(Greater_than)"
      ],
      "metadata": {
        "id": "HUQNueW44sx_",
        "colab": {
          "base_uri": "https://localhost:8080/"
        },
        "outputId": "573dac51-a242-4c57-bf64-7596586ba184"
      },
      "execution_count": null,
      "outputs": [
        {
          "output_type": "stream",
          "name": "stdout",
          "text": [
            "Greater_than:\n",
            "0     True\n",
            "1     True\n",
            "2     True\n",
            "3     True\n",
            "4    False\n",
            "5    False\n",
            "dtype: bool\n"
          ]
        }
      ]
    },
    {
      "cell_type": "markdown",
      "source": [
        "##Exercise 2"
      ],
      "metadata": {
        "id": "ZHBveoflk1dF"
      }
    },
    {
      "cell_type": "code",
      "source": [
        "#import pandas and numpy libraries and name it to be pd and np, respectively.\n",
        "import pandas as pd\n",
        "import numpy as np"
      ],
      "metadata": {
        "id": "QKljtiuB6MTV"
      },
      "execution_count": null,
      "outputs": []
    },
    {
      "cell_type": "markdown",
      "source": [
        "###Q 2.1\n",
        "Write a Pandas program to convert a dictionary to a Pandas series.<br>\n",
        "Given dictionary:\n",
        "```\n",
        "d1 = {'a': 500, 'b': 300, 'c': 100, 'd': 900, 'e': 600}\n",
        "```"
      ],
      "metadata": {
        "id": "48SEK1GGm9No"
      }
    },
    {
      "cell_type": "code",
      "source": [
        "#create dictionary\n",
        "d1 = {'a': 500, 'b': 300, 'c': 100, 'd': 900, 'e': 600}\n",
        "\n",
        "#display original array\n",
        "print(\"Original dictionary:\")\n",
        "print(d1)"
      ],
      "metadata": {
        "id": "Jz1GkDU-lZrr",
        "colab": {
          "base_uri": "https://localhost:8080/"
        },
        "outputId": "3c983208-a7e8-46bb-f129-f70567e6497b"
      },
      "execution_count": null,
      "outputs": [
        {
          "output_type": "stream",
          "name": "stdout",
          "text": [
            "Original dictionary:\n",
            "{'a': 500, 'b': 300, 'c': 100, 'd': 900, 'e': 600}\n"
          ]
        }
      ]
    },
    {
      "cell_type": "code",
      "source": [
        "#covert dictionary to pandas series\n",
        "d1=pd.Series(d1)\n",
        "\n",
        "#display result\n",
        "print(\"Converted series:\")\n",
        "print(d1)"
      ],
      "metadata": {
        "id": "HOc2O8lS6AjC",
        "colab": {
          "base_uri": "https://localhost:8080/"
        },
        "outputId": "fc854a05-4c62-48c2-f2b2-c9d270f81f35"
      },
      "execution_count": null,
      "outputs": [
        {
          "output_type": "stream",
          "name": "stdout",
          "text": [
            "Converted series:\n",
            "a    500\n",
            "b    300\n",
            "c    100\n",
            "d    900\n",
            "e    600\n",
            "dtype: int64\n"
          ]
        }
      ]
    },
    {
      "cell_type": "markdown",
      "source": [
        "###Q 2.2\n",
        "Write a Pandas program to convert a NumPy array to a Pandas series.<br>\n",
        "Sample NumPy array:\n",
        "```\n",
        "a1 = [20, 10, 90, 60, 50]\n",
        "```\n"
      ],
      "metadata": {
        "id": "zrB9eCatmJB2"
      }
    },
    {
      "cell_type": "code",
      "source": [
        "#create numpy array\n",
        "a1 = [20, 10, 90, 60, 50]\n",
        "arr1 = np.array(a1)\n",
        "\n",
        "#display original array\n",
        "print(\"NumPy array:\")\n",
        "print(arr1)"
      ],
      "metadata": {
        "id": "HxJPcCqHmXk8",
        "colab": {
          "base_uri": "https://localhost:8080/"
        },
        "outputId": "7b8d13f8-776c-4d65-e3a2-801f925fd7ff"
      },
      "execution_count": null,
      "outputs": [
        {
          "output_type": "stream",
          "name": "stdout",
          "text": [
            "NumPy array:\n",
            "[20 10 90 60 50]\n"
          ]
        }
      ]
    },
    {
      "cell_type": "code",
      "source": [
        "#covert numpy array to pandas series\n",
        "Series = pd.Series(arr1)\n",
        "\n",
        "#display result\n",
        "print(\"Converted Pandas series:\")\n",
        "print(Series)"
      ],
      "metadata": {
        "id": "b_xvtYXO6IyH",
        "colab": {
          "base_uri": "https://localhost:8080/"
        },
        "outputId": "6e9692c8-8ecf-48b6-821a-6892faf0ec10"
      },
      "execution_count": null,
      "outputs": [
        {
          "output_type": "stream",
          "name": "stdout",
          "text": [
            "Converted Pandas series:\n",
            "0    20\n",
            "1    10\n",
            "2    90\n",
            "3    60\n",
            "4    50\n",
            "dtype: int64\n"
          ]
        }
      ]
    },
    {
      "cell_type": "markdown",
      "source": [
        "##Exercise 3\n",
        "Given Python dictionary data and list labels:\n",
        "```\n",
        "exam_data = {\n",
        "'name': ['Anastasia', 'Dima', 'Katherine', 'James', 'Emily', 'Michael', 'Matthew', 'Laura', 'Kevin', 'Jonas'],\n",
        "'score': [12.5, 9, 16.5, nan, 9, 20, 14.5, nan, 8, 19],\n",
        "'attempts': [1, 3, 2, 3, 2, 3, 1, 1, 2, 1],\n",
        "'qualify': ['yes', 'no', 'yes', 'no', 'no', 'yes', 'yes', 'no', 'no', 'yes']\n",
        "}\n",
        "\n",
        "labels = ['a', 'b', 'c', 'd', 'e', 'f', 'g', 'h', 'i', 'j']\n",
        "\n",
        "```"
      ],
      "metadata": {
        "id": "oIQiG5kZnXAy"
      }
    },
    {
      "cell_type": "code",
      "source": [
        "#import pandas and numpy libraries and name it to be pd and np, respectively.\n",
        "import pandas as pd\n",
        "import numpy as np"
      ],
      "metadata": {
        "id": "VTESCiL591WK"
      },
      "execution_count": null,
      "outputs": []
    },
    {
      "cell_type": "code",
      "source": [
        "#create dataframe\n",
        "exam_data = {\n",
        "'name': ['Anastasia', 'Dima', 'Katherine', 'James', 'Emily', 'Michael', 'Matthew', 'Laura', 'Kevin', 'Jonas'],\n",
        "'score': [12.5, 9, 16.5, np.nan, 9, 20, 14.5, np.nan, 8, 19],\n",
        "'attempts': [1, 3, 2, 3, 2, 3, 1, 1, 2, 1],\n",
        "'qualify': ['yes', 'no', 'yes', 'no', 'no', 'yes', 'yes', 'no', 'no', 'yes']\n",
        "}\n",
        "labels = ['a', 'b', 'c', 'd', 'e', 'f', 'g', 'h', 'i', 'j']\n",
        "\n",
        "#display original dataframe\n",
        "df = pd.DataFrame(exam_data,index=labels)\n",
        "print(\"Orginal rows:\")\n",
        "print(df)"
      ],
      "metadata": {
        "id": "ehg98ApN-0zu",
        "colab": {
          "base_uri": "https://localhost:8080/"
        },
        "outputId": "e737942d-35a5-40e1-e617-c182e44f80ac"
      },
      "execution_count": null,
      "outputs": [
        {
          "output_type": "stream",
          "name": "stdout",
          "text": [
            "Orginal rows:\n",
            "        name  score  attempts qualify\n",
            "a  Anastasia   12.5         1     yes\n",
            "b       Dima    9.0         3      no\n",
            "c  Katherine   16.5         2     yes\n",
            "d      James    NaN         3      no\n",
            "e      Emily    9.0         2      no\n",
            "f    Michael   20.0         3     yes\n",
            "g    Matthew   14.5         1     yes\n",
            "h      Laura    NaN         1      no\n",
            "i      Kevin    8.0         2      no\n",
            "j      Jonas   19.0         1     yes\n"
          ]
        }
      ]
    },
    {
      "cell_type": "markdown",
      "source": [
        "###Q 3.1\n",
        "Display a summary of the basic information about a specified DataFrame and its data."
      ],
      "metadata": {
        "id": "Y6J6j7TY_402"
      }
    },
    {
      "cell_type": "code",
      "source": [
        "#display basic infomation of dataframe\n",
        "print(\"Summary of the basic information about this DataFrame and its data:\")\n",
        "print(df.info())"
      ],
      "metadata": {
        "id": "8QYz6VzF_9rZ",
        "colab": {
          "base_uri": "https://localhost:8080/"
        },
        "outputId": "a0a91986-26fc-4122-cd86-9883f9d900b9"
      },
      "execution_count": null,
      "outputs": [
        {
          "output_type": "stream",
          "name": "stdout",
          "text": [
            "Summary of the basic information about this DataFrame and its data:\n",
            "<class 'pandas.core.frame.DataFrame'>\n",
            "Index: 10 entries, a to j\n",
            "Data columns (total 4 columns):\n",
            " #   Column    Non-Null Count  Dtype  \n",
            "---  ------    --------------  -----  \n",
            " 0   name      10 non-null     object \n",
            " 1   score     8 non-null      float64\n",
            " 2   attempts  10 non-null     int64  \n",
            " 3   qualify   10 non-null     object \n",
            "dtypes: float64(1), int64(1), object(2)\n",
            "memory usage: 400.0+ bytes\n",
            "None\n"
          ]
        }
      ]
    },
    {
      "cell_type": "markdown",
      "source": [
        "###Q 3.2\n",
        "Get the first 3 rows of DataFrame."
      ],
      "metadata": {
        "id": "1UcQE6XBAOKw"
      }
    },
    {
      "cell_type": "code",
      "source": [
        "#display first 3 row of dataframe\n",
        "print(\"First three rows of the data frame:\")\n",
        "print(df.head(3))"
      ],
      "metadata": {
        "id": "Q6kp-ukLAaFi",
        "colab": {
          "base_uri": "https://localhost:8080/"
        },
        "outputId": "2a3c3652-3f89-4f11-baed-c7154e0e5c96"
      },
      "execution_count": null,
      "outputs": [
        {
          "output_type": "stream",
          "name": "stdout",
          "text": [
            "First three rows of the data frame:\n",
            "        name  score  attempts qualify\n",
            "a  Anastasia   12.5         1     yes\n",
            "b       Dima    9.0         3      no\n",
            "c  Katherine   16.5         2     yes\n"
          ]
        }
      ]
    },
    {
      "cell_type": "markdown",
      "source": [
        "###Q 3.3\n",
        "Select the 'name' and 'score' columns from the following DataFrame."
      ],
      "metadata": {
        "id": "lKfVa71FAbMf"
      }
    },
    {
      "cell_type": "code",
      "source": [
        "#display the selection\n",
        "print(\"Select specific columns:\")\n",
        "print(df[['name','score']])"
      ],
      "metadata": {
        "id": "Hbo2E-PLAixh",
        "colab": {
          "base_uri": "https://localhost:8080/"
        },
        "outputId": "bc4d29ac-67b4-40a2-c0de-0602c9bb52b1"
      },
      "execution_count": null,
      "outputs": [
        {
          "output_type": "stream",
          "name": "stdout",
          "text": [
            "Select specific columns:\n",
            "        name  score\n",
            "a  Anastasia   12.5\n",
            "b       Dima    9.0\n",
            "c  Katherine   16.5\n",
            "d      James    NaN\n",
            "e      Emily    9.0\n",
            "f    Michael   20.0\n",
            "g    Matthew   14.5\n",
            "h      Laura    NaN\n",
            "i      Kevin    8.0\n",
            "j      Jonas   19.0\n"
          ]
        }
      ]
    },
    {
      "cell_type": "markdown",
      "source": [
        "###Q 3.4\n",
        "Select the rows the score is between 15 and 20 (inclusive)."
      ],
      "metadata": {
        "id": "z2jvp-szAlOy"
      }
    },
    {
      "cell_type": "code",
      "source": [
        "#display selection\n",
        "print(\"Rows where score between 15 and 20 (inclusive):\")\n",
        "print(df[(df['score'] >= 15) & (df['score'] <= 20)])"
      ],
      "metadata": {
        "id": "huLiN7aRAuwP",
        "colab": {
          "base_uri": "https://localhost:8080/"
        },
        "outputId": "f536238b-aa43-4916-f2ce-7d687e1d8dc4"
      },
      "execution_count": null,
      "outputs": [
        {
          "output_type": "stream",
          "name": "stdout",
          "text": [
            "Rows where score between 15 and 20 (inclusive):\n",
            "        name  score  attempts qualify\n",
            "c  Katherine   16.5         2     yes\n",
            "f    Michael   20.0         3     yes\n",
            "j      Jonas   19.0         1     yes\n"
          ]
        }
      ]
    },
    {
      "cell_type": "markdown",
      "source": [
        "###Q3.5\n",
        "Append a new row 'k' to data frame with given values for each column. Now delete the new row and return the original DataFrame.<br>\n",
        "\n",
        "Values for each column will be:\n",
        "```\n",
        "name : \"Suresh\", score: 15.5, attempts: 1, qualify: \"yes\", label: \"k\"\n",
        "```"
      ],
      "metadata": {
        "id": "fvl-BblW8ypH"
      }
    },
    {
      "cell_type": "code",
      "source": [
        "#add new row 'k'\n",
        "value_k = {'name': ['Suresh'], 'score': [15.5], 'attempts': [1], 'qualify': ['yes']}\n",
        "new_row = pd.DataFrame(value_k,index=['k'])\n",
        "df = df.append(new_row)\n",
        "#display result after add row\n",
        "print(\"Append a new row:\")\n",
        "print(df)"
      ],
      "metadata": {
        "id": "z-8zE3D88Kc2",
        "colab": {
          "base_uri": "https://localhost:8080/"
        },
        "outputId": "668e224a-79fb-4e25-a95f-894f9dabc55b"
      },
      "execution_count": null,
      "outputs": [
        {
          "output_type": "stream",
          "name": "stdout",
          "text": [
            "Append a new row:\n",
            "        name  score  attempts qualify\n",
            "a  Anastasia   12.5         1     yes\n",
            "b       Dima    9.0         3      no\n",
            "c  Katherine   16.5         2     yes\n",
            "d      James    NaN         3      no\n",
            "e      Emily    9.0         2      no\n",
            "f    Michael   20.0         3     yes\n",
            "g    Matthew   14.5         1     yes\n",
            "h      Laura    NaN         1      no\n",
            "i      Kevin    8.0         2      no\n",
            "j      Jonas   19.0         1     yes\n",
            "k     Suresh   15.5         1     yes\n"
          ]
        },
        {
          "output_type": "stream",
          "name": "stderr",
          "text": [
            "<ipython-input-95-8f0a776309df>:4: FutureWarning: The frame.append method is deprecated and will be removed from pandas in a future version. Use pandas.concat instead.\n",
            "  df = df.append(new_row)\n"
          ]
        }
      ]
    },
    {
      "cell_type": "code",
      "source": [
        "#drop row 'k'\n",
        "df = df.drop('k')\n",
        "\n",
        "#display result after drop row\n",
        "print(\"Delete the new row and display the original  rows:\")\n",
        "print(df)"
      ],
      "metadata": {
        "id": "gbHOBb8Z-I1A",
        "colab": {
          "base_uri": "https://localhost:8080/"
        },
        "outputId": "5e90aa3f-4c47-436d-a8cd-a2b01ff494db"
      },
      "execution_count": null,
      "outputs": [
        {
          "output_type": "stream",
          "name": "stdout",
          "text": [
            "Delete the new row and display the original  rows:\n",
            "        name  score  attempts qualify\n",
            "a  Anastasia   12.5         1     yes\n",
            "b       Dima    9.0         3      no\n",
            "c  Katherine   16.5         2     yes\n",
            "d      James    NaN         3      no\n",
            "e      Emily    9.0         2      no\n",
            "f    Michael   20.0         3     yes\n",
            "g    Matthew   14.5         1     yes\n",
            "h      Laura    NaN         1      no\n",
            "i      Kevin    8.0         2      no\n",
            "j      Jonas   19.0         1     yes\n"
          ]
        }
      ]
    },
    {
      "cell_type": "markdown",
      "source": [
        "###Q 3.6\n",
        "Sort the DataFrame first by 'name' in descending order, then by 'score' in ascending order.\n"
      ],
      "metadata": {
        "id": "AABgb3sx83cK"
      }
    },
    {
      "cell_type": "code",
      "source": [
        "#sorting\n",
        "df_sort= df.sort_values(by=['name', 'score'],ascending=[False, True] )\n",
        "\n",
        "#display result\n",
        "print(\"Sort the data frame first by ‘name’ in descending order, then by ‘score’ in ascending order:\")\n",
        "print(df_sort)"
      ],
      "metadata": {
        "id": "kfkUU_IR9NSI",
        "colab": {
          "base_uri": "https://localhost:8080/"
        },
        "outputId": "c23d6084-9bda-445a-db55-065fdc621a6a"
      },
      "execution_count": null,
      "outputs": [
        {
          "output_type": "stream",
          "name": "stdout",
          "text": [
            "Sort the data frame first by ‘name’ in descending order, then by ‘score’ in ascending order:\n",
            "        name  score  attempts qualify\n",
            "f    Michael   20.0         3     yes\n",
            "g    Matthew   14.5         1     yes\n",
            "h      Laura    NaN         1      no\n",
            "i      Kevin    8.0         2      no\n",
            "c  Katherine   16.5         2     yes\n",
            "j      Jonas   19.0         1     yes\n",
            "d      James    NaN         3      no\n",
            "e      Emily    9.0         2      no\n",
            "b       Dima    9.0         3      no\n",
            "a  Anastasia   12.5         1     yes\n"
          ]
        }
      ]
    },
    {
      "cell_type": "markdown",
      "source": [
        "###Q 3.7\n",
        "Replace the 'qualify' column contains the values 'yes' and 'no' with True and False."
      ],
      "metadata": {
        "id": "9APBQqzT9aA3"
      }
    },
    {
      "cell_type": "code",
      "source": [
        "#replace yes/no with true/false\n",
        "df['qualify'] = df['qualify'].replace({'yes': True, 'no': False})\n",
        "\n",
        "#display result\n",
        "print(\"Replace the 'qualify' column contains the values 'yes' and 'no'  with True and  False:\")\n",
        "print(df)"
      ],
      "metadata": {
        "id": "O9kbHU_89eOt",
        "colab": {
          "base_uri": "https://localhost:8080/"
        },
        "outputId": "f9ac1202-d3d8-4d15-d31d-896c700efd8c"
      },
      "execution_count": null,
      "outputs": [
        {
          "output_type": "stream",
          "name": "stdout",
          "text": [
            "Replace the 'qualify' column contains the values 'yes' and 'no'  with True and  False:\n",
            "        name  score  attempts  qualify\n",
            "a  Anastasia   12.5         1     True\n",
            "b       Dima    9.0         3    False\n",
            "c  Katherine   16.5         2     True\n",
            "d      James    NaN         3    False\n",
            "e      Emily    9.0         2    False\n",
            "f    Michael   20.0         3     True\n",
            "g    Matthew   14.5         1     True\n",
            "h      Laura    NaN         1    False\n",
            "i      Kevin    8.0         2    False\n",
            "j      Jonas   19.0         1     True\n"
          ]
        }
      ]
    },
    {
      "cell_type": "markdown",
      "source": [
        "###Q 3.8\n",
        "Change the name 'James' to 'Suresh' in name column of the DataFrame"
      ],
      "metadata": {
        "id": "SHwwVs1S9msJ"
      }
    },
    {
      "cell_type": "code",
      "source": [
        "#change value in dataframe\n",
        "df['name'] = df['name'].replace('James', 'Suresh')\n",
        "\n",
        "#display result\n",
        "print(\"Change the name 'James' to ‘Suresh’:\")\n",
        "print(df)"
      ],
      "metadata": {
        "id": "2qFxRaR39pWF",
        "colab": {
          "base_uri": "https://localhost:8080/"
        },
        "outputId": "83171eef-120a-4274-94af-abc5220af5fe"
      },
      "execution_count": null,
      "outputs": [
        {
          "output_type": "stream",
          "name": "stdout",
          "text": [
            "Change the name 'James' to ‘Suresh’:\n",
            "        name  score  attempts  qualify\n",
            "a  Anastasia   12.5         1     True\n",
            "b       Dima    9.0         3    False\n",
            "c  Katherine   16.5         2     True\n",
            "d     Suresh    NaN         3    False\n",
            "e      Emily    9.0         2    False\n",
            "f    Michael   20.0         3     True\n",
            "g    Matthew   14.5         1     True\n",
            "h      Laura    NaN         1    False\n",
            "i      Kevin    8.0         2    False\n",
            "j      Jonas   19.0         1     True\n"
          ]
        }
      ]
    },
    {
      "cell_type": "markdown",
      "source": [
        "###Q 3.9\n",
        "Delete the 'attempts' column from the DataFrame."
      ],
      "metadata": {
        "id": "u0wMSeYj-GL4"
      }
    },
    {
      "cell_type": "code",
      "source": [
        "#delete column\n",
        "df = df.drop('attempts', axis=1)\n",
        "\n",
        "#display result\n",
        "print(\"Delete the 'attempts' column from the data frame:\")\n",
        "print(df)"
      ],
      "metadata": {
        "id": "QhtEIkEA-S5Z",
        "colab": {
          "base_uri": "https://localhost:8080/"
        },
        "outputId": "05570913-e386-4801-bbea-dcae146452a1"
      },
      "execution_count": null,
      "outputs": [
        {
          "output_type": "stream",
          "name": "stdout",
          "text": [
            "Delete the 'attempts' column from the data frame:\n",
            "        name  score  qualify\n",
            "a  Anastasia   12.5     True\n",
            "b       Dima    9.0    False\n",
            "c  Katherine   16.5     True\n",
            "d     Suresh    NaN    False\n",
            "e      Emily    9.0    False\n",
            "f    Michael   20.0     True\n",
            "g    Matthew   14.5     True\n",
            "h      Laura    NaN    False\n",
            "i      Kevin    8.0    False\n",
            "j      Jonas   19.0     True\n"
          ]
        }
      ]
    },
    {
      "cell_type": "markdown",
      "source": [
        "###Q 3.10\n",
        "Insert a new column in existing DataFrame."
      ],
      "metadata": {
        "id": "ZmkmQZpf-VI8"
      }
    },
    {
      "cell_type": "code",
      "source": [
        "#insert new column\n",
        "df['color'] = ['Red', 'Blue', 'Orange', 'Red', 'White', 'White', 'Blue', 'Green', 'Green', 'Red']\n",
        "\n",
        "#display result\n",
        "print(\"New DataFrame after inserting the 'color' column\")\n",
        "print(df)"
      ],
      "metadata": {
        "id": "115W1rsW-bYQ",
        "colab": {
          "base_uri": "https://localhost:8080/"
        },
        "outputId": "a1a40a7d-0590-41f4-dba6-f20a75bbf1e8"
      },
      "execution_count": null,
      "outputs": [
        {
          "output_type": "stream",
          "name": "stdout",
          "text": [
            "New DataFrame after inserting the 'color' column\n",
            "        name  score  qualify   color\n",
            "a  Anastasia   12.5     True     Red\n",
            "b       Dima    9.0    False    Blue\n",
            "c  Katherine   16.5     True  Orange\n",
            "d     Suresh    NaN    False     Red\n",
            "e      Emily    9.0    False   White\n",
            "f    Michael   20.0     True   White\n",
            "g    Matthew   14.5     True    Blue\n",
            "h      Laura    NaN    False   Green\n",
            "i      Kevin    8.0    False   Green\n",
            "j      Jonas   19.0     True     Red\n"
          ]
        }
      ]
    },
    {
      "cell_type": "markdown",
      "source": [
        "##Exercise 4\n",
        "Test Data:<br>\n",
        "<table style=\"width:100%\">\n",
        "  <tr>\n",
        "    <th>Dataframe index</th>\n",
        "    <th>school_code</th>\n",
        "    <th>class</th>\n",
        "    <th>name</th>\n",
        "    <th>date_Of_Birth</th>\n",
        "    <th>weight</th>\n",
        "    <th>address</th>\n",
        "    <th>t_id</th>\n",
        "  </tr>\n",
        "  <tr>\n",
        "    <td>0                </td>\n",
        "    <td>s001             </td>\n",
        "    <td>V                </td>\n",
        "    <td>Alberto Franco   </td>\n",
        "    <td>15/05/2002       </td>\n",
        "    <td>35               </td>\n",
        "    <td>street1          </td>\n",
        "    <td>t1               </td>\n",
        "  </tr>\n",
        "  <tr>\n",
        "    <td>1                </td>        \n",
        "    <td>s002             </td>     \n",
        "    <td>V                </td>    \n",
        "    <td>Gino Mcneill     </td>     \n",
        "    <td>17/05/2002       </td>      \n",
        "    <td>32               </td>  \n",
        "    <td>street2          </td>   \n",
        "    <td>t2               </td>\n",
        "  </tr>\n",
        "  <tr>\n",
        "    <td>2                </td>\n",
        "    <td>s003             </td>\n",
        "    <td>VI               </td>\n",
        "    <td>Ryan Parkes      </td>\n",
        "    <td>16/02/1999       </td>\n",
        "    <td>33               </td>\n",
        "    <td>street3          </td>\n",
        "    <td>t3               </td>\n",
        "</tr>\n",
        "<tr>\n",
        "    <td>3                </td>\n",
        "    <td>s001             </td>\n",
        "    <td>VI               </td>\n",
        "    <td>Eesha Hinton     </td>\n",
        "    <td>25/09/1998       </td>\n",
        "    <td>30               </td>\n",
        "    <td>street1          </td>\n",
        "    <td>t4               </td>\n",
        "</tr>\n",
        "<tr>\n",
        "    <td>4                 </td>\n",
        "    <td>s002              </td>\n",
        "    <td>V                 </td>\n",
        "    <td>Gino Mcneill      </td>\n",
        "    <td>11/05/2002        </td>\n",
        "    <td>31                </td>\n",
        "    <td>street2           </td>\n",
        "    <td>t5                </td>\n",
        "</tr>\n",
        "<tr>\n",
        "    <td>5                 </td>\n",
        "    <td>s004              </td>\n",
        "    <td>VI                </td>\n",
        "    <td>David Parkes      </td>\n",
        "    <td>15/09/1997        </td>\n",
        "    <td>32                </td>\n",
        "    <td>street4           </td>\n",
        "    <td>t6                </td>\n",
        "</tr>\n",
        "\n",
        "</table>"
      ],
      "metadata": {
        "id": "3A3jKW1OSooT"
      }
    },
    {
      "cell_type": "markdown",
      "source": [
        "Create datafram from test data"
      ],
      "metadata": {
        "id": "3P4olqyHEE8o"
      }
    },
    {
      "cell_type": "code",
      "source": [
        "#import pandas libraries and name it to be pd.\n",
        "import pandas as pd"
      ],
      "metadata": {
        "id": "gvDqiRLGFNVQ"
      },
      "execution_count": null,
      "outputs": []
    },
    {
      "cell_type": "code",
      "source": [
        "#create dataframe\n",
        "data = {\n",
        "    'school_code': ['s001', 's002', 's003', 's001', 's002', 's004'],\n",
        "    'class': ['V', 'V', 'VI', 'VI', 'V', 'VI'],\n",
        "    'name': ['Alberto Franco', 'Gino Mcneill', 'Ryan Parkes', 'Eesha Hinton', 'Gino Mcneill', 'David Parkes'],\n",
        "    'date_Of_Birth': ['15/05/2002', '17/05/2002', '16/02/1999', '25/09/1998', '11/05/2002', '15/09/1997'],\n",
        "    'weight': [35, 32, 33, 30, 31, 32],\n",
        "    'address': ['street1', 'street2', 'street3', 'street1', 'street2', 'street4'],\n",
        "    't_id': ['t1', 't2', 't3', 't4', 't5', 't6']\n",
        "}\n",
        "\n",
        "df = pd.DataFrame(data)\n",
        "\n",
        "#display original dataframe\n",
        "print(\"Original DataFrame:\")\n",
        "print(df)\n"
      ],
      "metadata": {
        "id": "zFPT6mCYFN8i",
        "colab": {
          "base_uri": "https://localhost:8080/"
        },
        "outputId": "c0c58111-51f6-479b-b0d2-866be5826319"
      },
      "execution_count": null,
      "outputs": [
        {
          "output_type": "stream",
          "name": "stdout",
          "text": [
            "Original DataFrame:\n",
            "  school_code class            name date_Of_Birth  weight  address t_id\n",
            "0        s001     V  Alberto Franco    15/05/2002      35  street1   t1\n",
            "1        s002     V    Gino Mcneill    17/05/2002      32  street2   t2\n",
            "2        s003    VI     Ryan Parkes    16/02/1999      33  street3   t3\n",
            "3        s001    VI    Eesha Hinton    25/09/1998      30  street1   t4\n",
            "4        s002     V    Gino Mcneill    11/05/2002      31  street2   t5\n",
            "5        s004    VI    David Parkes    15/09/1997      32  street4   t6\n"
          ]
        }
      ]
    },
    {
      "cell_type": "markdown",
      "source": [
        "###Q 4.1\n",
        "display the default index and set a column as an Index."
      ],
      "metadata": {
        "id": "_IR0vDkhES1-"
      }
    },
    {
      "cell_type": "code",
      "source": [
        "#check head\n",
        "print(\"Default Index:\")\n",
        "print(df)"
      ],
      "metadata": {
        "id": "F71qpiPREkLy",
        "colab": {
          "base_uri": "https://localhost:8080/"
        },
        "outputId": "c7a3b49a-18d6-4692-892d-6e481de3b494"
      },
      "execution_count": null,
      "outputs": [
        {
          "output_type": "stream",
          "name": "stdout",
          "text": [
            "Default Index:\n",
            "  school_code class            name date_Of_Birth  weight  address t_id\n",
            "0        s001     V  Alberto Franco    15/05/2002      35  street1   t1\n",
            "1        s002     V    Gino Mcneill    17/05/2002      32  street2   t2\n",
            "2        s003    VI     Ryan Parkes    16/02/1999      33  street3   t3\n",
            "3        s001    VI    Eesha Hinton    25/09/1998      30  street1   t4\n",
            "4        s002     V    Gino Mcneill    11/05/2002      31  street2   t5\n",
            "5        s004    VI    David Parkes    15/09/1997      32  street4   t6\n"
          ]
        }
      ]
    },
    {
      "cell_type": "code",
      "source": [
        "#set index of 'df' to be \"school_code\" and assign it in variable name: 'df1'\n",
        "df1 = df.set_index('school_code')\n",
        "print(\"school_code as new Index:\")\n",
        "print(df1)"
      ],
      "metadata": {
        "id": "Xq5XKIwI9bKt",
        "colab": {
          "base_uri": "https://localhost:8080/"
        },
        "outputId": "88642650-46f4-4094-8d29-fd434577c5a1"
      },
      "execution_count": null,
      "outputs": [
        {
          "output_type": "stream",
          "name": "stdout",
          "text": [
            "school_code as new Index:\n",
            "            class            name date_Of_Birth  weight  address t_id\n",
            "school_code                                                          \n",
            "s001            V  Alberto Franco    15/05/2002      35  street1   t1\n",
            "s002            V    Gino Mcneill    17/05/2002      32  street2   t2\n",
            "s003           VI     Ryan Parkes    16/02/1999      33  street3   t3\n",
            "s001           VI    Eesha Hinton    25/09/1998      30  street1   t4\n",
            "s002            V    Gino Mcneill    11/05/2002      31  street2   t5\n",
            "s004           VI    David Parkes    15/09/1997      32  street4   t6\n"
          ]
        }
      ]
    },
    {
      "cell_type": "code",
      "source": [
        "#set index of 'df' to be \"t_id\" and assign it in variable name: 'df2'\n",
        "df2 = df.set_index('t_id')\n",
        "print(\"t_id as new Index:\")\n",
        "print(df2)"
      ],
      "metadata": {
        "id": "i_Mmux8R9Y5U",
        "colab": {
          "base_uri": "https://localhost:8080/"
        },
        "outputId": "bd03a28f-dd11-4237-a67d-5083c2727fd0"
      },
      "execution_count": null,
      "outputs": [
        {
          "output_type": "stream",
          "name": "stdout",
          "text": [
            "t_id as new Index:\n",
            "     school_code class            name date_Of_Birth  weight  address\n",
            "t_id                                                                 \n",
            "t1          s001     V  Alberto Franco    15/05/2002      35  street1\n",
            "t2          s002     V    Gino Mcneill    17/05/2002      32  street2\n",
            "t3          s003    VI     Ryan Parkes    16/02/1999      33  street3\n",
            "t4          s001    VI    Eesha Hinton    25/09/1998      30  street1\n",
            "t5          s002     V    Gino Mcneill    11/05/2002      31  street2\n",
            "t6          s004    VI    David Parkes    15/09/1997      32  street4\n"
          ]
        }
      ]
    },
    {
      "cell_type": "markdown",
      "source": [
        "###Q 4.2\n",
        "create a multi Index frame using two columns and using an Index and a column."
      ],
      "metadata": {
        "id": "deaXIiqLE8Fc"
      }
    },
    {
      "cell_type": "code",
      "source": [
        "#set multiple index of 'df' to be \"t_id\", \"class\" and \"school_code\", respectively. And assign it in variable name: 'df3'\n",
        "df3 = df.set_index(['t_id', 'class', 'school_code'])\n",
        "print(\"t_id as new Index:\")\n",
        "print(df3)"
      ],
      "metadata": {
        "id": "noI5IrmxFEvC",
        "colab": {
          "base_uri": "https://localhost:8080/"
        },
        "outputId": "eec4a304-6761-4b57-8024-c1061992ebb4"
      },
      "execution_count": null,
      "outputs": [
        {
          "output_type": "stream",
          "name": "stdout",
          "text": [
            "t_id as new Index:\n",
            "                                  name date_Of_Birth  weight  address\n",
            "t_id class school_code                                               \n",
            "t1   V     s001         Alberto Franco    15/05/2002      35  street1\n",
            "t2   V     s002           Gino Mcneill    17/05/2002      32  street2\n",
            "t3   VI    s003            Ryan Parkes    16/02/1999      33  street3\n",
            "t4   VI    s001           Eesha Hinton    25/09/1998      30  street1\n",
            "t5   V     s002           Gino Mcneill    11/05/2002      31  street2\n",
            "t6   VI    s004           David Parkes    15/09/1997      32  street4\n"
          ]
        }
      ]
    },
    {
      "cell_type": "code",
      "source": [
        "#set multiple index of 'df' to be \"index\" and \"t_id\", and assign it in variable name: 'df4'\n",
        "df4 = df.set_index('t_id')\n",
        "df4 = df4.reset_index()\n",
        "print(\"MultiIndex using an Index and a column:\")\n",
        "print(df4)"
      ],
      "metadata": {
        "id": "YZeImdQR-8lC",
        "colab": {
          "base_uri": "https://localhost:8080/"
        },
        "outputId": "1152da92-b3c1-431a-b4e4-5c5b37b10208"
      },
      "execution_count": null,
      "outputs": [
        {
          "output_type": "stream",
          "name": "stdout",
          "text": [
            "MultiIndex using an Index and a column:\n",
            "  t_id school_code class            name date_Of_Birth  weight  address\n",
            "0   t1        s001     V  Alberto Franco    15/05/2002      35  street1\n",
            "1   t2        s002     V    Gino Mcneill    17/05/2002      32  street2\n",
            "2   t3        s003    VI     Ryan Parkes    16/02/1999      33  street3\n",
            "3   t4        s001    VI    Eesha Hinton    25/09/1998      30  street1\n",
            "4   t5        s002     V    Gino Mcneill    11/05/2002      31  street2\n",
            "5   t6        s004    VI    David Parkes    15/09/1997      32  street4\n"
          ]
        }
      ]
    },
    {
      "cell_type": "markdown",
      "source": [
        "### Q 4.3\n",
        "set value in a specific cell in df4 using index."
      ],
      "metadata": {
        "id": "QMGpqta1HDQv"
      }
    },
    {
      "cell_type": "code",
      "source": [
        "#set value of school_code from s004 to s005\n",
        "index_to_update = df4[df4['school_code'] == 's004'].index[0];\n",
        "\n",
        "# Set the value at the specified index and column\n",
        "df4.at[index_to_update, 'school_code'] = 's005';\n",
        "\n",
        "#display result\n",
        "print(\"Set school code 's004' to 's005':\")\n",
        "print(df4.iloc[5,1])"
      ],
      "metadata": {
        "colab": {
          "base_uri": "https://localhost:8080/"
        },
        "id": "wS8gLM7NtdVs",
        "outputId": "f30c3414-f28c-4d51-ba0f-618243a84ccf"
      },
      "execution_count": null,
      "outputs": [
        {
          "output_type": "stream",
          "name": "stdout",
          "text": [
            "Set school code 's004' to 's005':\n",
            "s005\n"
          ]
        }
      ]
    },
    {
      "cell_type": "code",
      "source": [
        "index_to_update = df4[df4['name'] == 'Alberto Franco'].index[0]\n",
        "df4.at[index_to_update, 'date_Of_Birth'] = '16/05/2002'\n",
        "\n",
        "# Create a new DataFrame 'display' with the required columns\n",
        "display = df4[['school_code', 'class', 'name', 'date_Of_Birth', 'weight', 'address', 't_id', 'date_Of_Birth']].copy()\n",
        "\n",
        "# Rename the 'date_Of_Birth' column to 'date_of_birth'\n",
        "display.rename(columns={'date_Of_Birth': 'date_of_birth'})\n",
        "\n",
        "# Print the 'display' DataFrame\n",
        "print(display)"
      ],
      "metadata": {
        "colab": {
          "base_uri": "https://localhost:8080/"
        },
        "id": "R6pD6kLvuckr",
        "outputId": "6e46d99f-64a8-474e-8182-18078f5758ea"
      },
      "execution_count": null,
      "outputs": [
        {
          "output_type": "stream",
          "name": "stdout",
          "text": [
            "  school_code class            name date_Of_Birth  weight  address t_id  \\\n",
            "0        s001     V  Alberto Franco    16/05/2002      35  street1   t1   \n",
            "1        s002     V    Gino Mcneill    17/05/2002      32  street2   t2   \n",
            "2        s003    VI     Ryan Parkes    16/02/1999      33  street3   t3   \n",
            "3        s001    VI    Eesha Hinton    25/09/1998      30  street1   t4   \n",
            "4        s002     V    Gino Mcneill    11/05/2002      31  street2   t5   \n",
            "5        s005    VI    David Parkes    15/09/1997      32  street4   t6   \n",
            "\n",
            "  date_Of_Birth  \n",
            "0    16/05/2002  \n",
            "1    17/05/2002  \n",
            "2    16/02/1999  \n",
            "3    25/09/1998  \n",
            "4    11/05/2002  \n",
            "5    15/09/1997  \n"
          ]
        }
      ]
    },
    {
      "cell_type": "markdown",
      "source": [
        "###Q 4.4\n",
        "reset the index of df1 and convert 1st and 3rd levels in the index into columns from a multiple level of index frame of df3."
      ],
      "metadata": {
        "id": "c4OLZyEHGN8v"
      }
    },
    {
      "cell_type": "code",
      "source": [
        "#reset the index of df1 and assign it into df5\n",
        "df6 = df1.reset_index()\n",
        "print(\"Reset the index:\")\n",
        "print(df6)"
      ],
      "metadata": {
        "id": "f3iZ7Cd8GNkt",
        "colab": {
          "base_uri": "https://localhost:8080/"
        },
        "outputId": "432bbe8e-9d5b-4043-8287-8327cd200fe5"
      },
      "execution_count": null,
      "outputs": [
        {
          "output_type": "stream",
          "name": "stdout",
          "text": [
            "Reset the index:\n",
            "  school_code class            name date_Of_Birth  weight  address t_id\n",
            "0        s001     V  Alberto Franco    15/05/2002      35  street1   t1\n",
            "1        s002     V    Gino Mcneill    17/05/2002      32  street2   t2\n",
            "2        s003    VI     Ryan Parkes    16/02/1999      33  street3   t3\n",
            "3        s001    VI    Eesha Hinton    25/09/1998      30  street1   t4\n",
            "4        s002     V    Gino Mcneill    11/05/2002      31  street2   t5\n",
            "5        s004    VI    David Parkes    15/09/1997      32  street4   t6\n"
          ]
        }
      ]
    },
    {
      "cell_type": "code",
      "source": [
        "#convert the index of df3 and assign it into df6\n",
        "df6 = df3.reset_index(level=[0, 2])\n",
        "\n",
        "# Displaying the modified DataFrame (df2)\n",
        "print(\"Convert 1st and 3rd levels in the index frame into columns:\")\n",
        "print(df6)"
      ],
      "metadata": {
        "id": "vZHdCLEVAN3t",
        "colab": {
          "base_uri": "https://localhost:8080/"
        },
        "outputId": "81f02a3c-4552-4816-dcd0-8c95b79c5cf4"
      },
      "execution_count": null,
      "outputs": [
        {
          "output_type": "stream",
          "name": "stdout",
          "text": [
            "Convert 1st and 3rd levels in the index frame into columns:\n",
            "      t_id school_code            name date_Of_Birth  weight  address\n",
            "class                                                                \n",
            "V       t1        s001  Alberto Franco    15/05/2002      35  street1\n",
            "V       t2        s002    Gino Mcneill    17/05/2002      32  street2\n",
            "VI      t3        s003     Ryan Parkes    16/02/1999      33  street3\n",
            "VI      t4        s001    Eesha Hinton    25/09/1998      30  street1\n",
            "V       t5        s002    Gino Mcneill    11/05/2002      31  street2\n",
            "VI      t6        s004    David Parkes    15/09/1997      32  street4\n"
          ]
        }
      ]
    },
    {
      "cell_type": "markdown",
      "source": [
        "##Exercise 5"
      ],
      "metadata": {
        "id": "1WvoRHovOzv7"
      }
    },
    {
      "cell_type": "markdown",
      "source": [
        "Combine two DataFrame objects by filling null values in one DataFrame with non-null values from other DataFrame.\n",
        "\n",
        "Given dataframe\n",
        "```\n",
        "df5_1 = pd.DataFrame({'A': [None, 2, None], 'B': [4, 5, 6]})\n",
        "df5_2 = pd.DataFrame({'A': [1, 1, 3], 'B': [9, None, 5]})\n",
        "```\n",
        "\n"
      ],
      "metadata": {
        "id": "uDr0iSEERltG"
      }
    },
    {
      "cell_type": "code",
      "source": [
        "#import pandas libraries and name it to be pd.\n",
        "import pandas as pd"
      ],
      "metadata": {
        "id": "2qsLV0alASZM"
      },
      "execution_count": null,
      "outputs": []
    },
    {
      "cell_type": "code",
      "source": [
        "#create dataframe\n",
        "df5_1 = pd.DataFrame({'A': [None, 2, None], 'B': [4, 5, 6]})\n",
        "df5_2 = pd.DataFrame({'A': [1, 1, 3], 'B': [9, None, 5]})\n",
        "\n",
        "#diplay original dataframe\n",
        "print(\"Original DataFrames:\")\n",
        "print(df5_1)\n",
        "\n",
        "print(\"--------------------\")\n",
        "print(df5_2)"
      ],
      "metadata": {
        "id": "zwePsCqlRkOx",
        "colab": {
          "base_uri": "https://localhost:8080/"
        },
        "outputId": "f8edb470-f460-44e5-e5ce-0ef256e5f5f1"
      },
      "execution_count": null,
      "outputs": [
        {
          "output_type": "stream",
          "name": "stdout",
          "text": [
            "Original DataFrames:\n",
            "     A  B\n",
            "0  NaN  4\n",
            "1  2.0  5\n",
            "2  NaN  6\n",
            "--------------------\n",
            "   A    B\n",
            "0  1  9.0\n",
            "1  1  NaN\n",
            "2  3  5.0\n"
          ]
        }
      ]
    },
    {
      "cell_type": "code",
      "source": [
        "#merge two dataframe\n",
        "merged_df = pd.merge(df5_1, df5_2, on='A', how='inner', suffixes=('_df5_1', '_df5_2'))\n",
        "\n",
        "# Selecting relevant columns for display\n",
        "display_df = merged_df[['A', 'B_df5_1']]\n",
        "\n",
        "#display result\n",
        "print(\"Merged DataFrame:\")\n",
        "print(merged_df)"
      ],
      "metadata": {
        "id": "25YFO698AgP1",
        "colab": {
          "base_uri": "https://localhost:8080/"
        },
        "outputId": "f65474cb-7195-42da-fa11-88c144bd8789"
      },
      "execution_count": null,
      "outputs": [
        {
          "output_type": "stream",
          "name": "stdout",
          "text": [
            "Merged DataFrame:\n",
            "Empty DataFrame\n",
            "Columns: [A, B_df5_1, B_df5_2]\n",
            "Index: []\n"
          ]
        }
      ]
    },
    {
      "cell_type": "markdown",
      "source": [
        "##Exercise 6\n",
        "Data 1: <br>\n",
        "<table style=\"width:100%\">\n",
        "    <tr>\n",
        "        <th>Dataframe index</th>\n",
        "        <th>student_id</th>\n",
        "        <th>name</th>\n",
        "        <th>marks</th>\n",
        "    </tr>\n",
        "    <tr>\n",
        "        <td>0               </td>\n",
        "        <td>S1              </td>\n",
        "        <td>Danniella Fenton</td>\n",
        "        <td>200</td>\n",
        "    </tr>\n",
        "    <tr>\n",
        "        <td>1               </td>\n",
        "        <td>S2              </td>\n",
        "        <td>Ryder Storey    </td>\n",
        "        <td>210             </td>\n",
        "    </tr>\n",
        "    <tr>\n",
        "        <td>2               </td>\n",
        "        <td>S3              </td>\n",
        "        <td>Bryce Jensen    </td>\n",
        "        <td>190             </td>\n",
        "    </tr>\n",
        "    <tr>\n",
        "        <td>3               </td>\n",
        "        <td>S4              </td>\n",
        "        <td>Ed Bernal       </td>\n",
        "        <td>222             </td>\n",
        "    </tr>\n",
        "    <tr>\n",
        "        <td>4               </td>\n",
        "        <td>S5              </td>\n",
        "        <td>Kwame Morin     </td>\n",
        "        <td>199             </td>\n",
        "    </tr>\n",
        "</table>\n",
        "<br>\n",
        "Data 2: <br>\n",
        "<table style=\"width:100%\">\n",
        "    <tr>\n",
        "        <th>Dataframe index</th>\n",
        "        <th>student_id</th>\n",
        "        <th>name</th>\n",
        "        <th>marks</th>\n",
        "    </tr>\n",
        "    <tr>\n",
        "        <td>0               </td>\n",
        "        <td>S4              </td>\n",
        "        <td>Scarlette Fisher</td>\n",
        "        <td>201</td>\n",
        "    </tr>\n",
        "    <tr>\n",
        "        <td>1               </td>\n",
        "        <td>S5              </td>\n",
        "        <td>Carla Williamson</td>\n",
        "        <td>200             </td>\n",
        "    </tr>\n",
        "    <tr>\n",
        "        <td>2               </td>\n",
        "        <td>S6              </td>\n",
        "        <td>Dante Morse     </td>\n",
        "        <td>198             </td>\n",
        "    </tr>\n",
        "    <tr>\n",
        "        <td>3               </td>\n",
        "        <td>S7              </td>\n",
        "        <td>Kaiser William  </td>\n",
        "        <td>219             </td>\n",
        "    </tr>\n",
        "    <tr>\n",
        "        <td>4               </td>\n",
        "        <td>S8              </td>\n",
        "        <td>Madeeha Preston </td>\n",
        "        <td>201             </td>\n",
        "    </tr>\n",
        "</table>"
      ],
      "metadata": {
        "id": "wuMEsdduSI96"
      }
    },
    {
      "cell_type": "code",
      "source": [
        "#import pandas libraries and name it to be pd.\n",
        "import pandas as pd"
      ],
      "metadata": {
        "id": "EIgk2OzYV3c1"
      },
      "execution_count": null,
      "outputs": []
    },
    {
      "cell_type": "code",
      "source": [
        "#create dataframe\n",
        "data = {'student_id': ['S1', 'S2', 'S3', 'S4', 'S5'],\n",
        "        'name': ['Danniella Fenton', 'Ryder Storey', 'Bryce Jensen', 'Ed Bernal', 'Kwame Morin'],\n",
        "        'marks': [200, 210, 190, 222, 199]}\n",
        "data2 = {'student_id': ['S4', 'S5', 'S6', 'S7', 'S8'],\n",
        "         'name': ['Scarlette Fisher', 'Carla Williamson', 'Dante Morse', 'Kaiser William', 'Madeeha Preston'],\n",
        "         'marks': [201, 200, 198, 219, 201]}\n",
        "\n",
        "df = pd.DataFrame(data)\n",
        "df2 = pd.DataFrame(data2)\n",
        "\n",
        "#display original dataframe\n",
        "print(\"Original DataFrames:\")\n",
        "print(df)\n",
        "print(\"-------------------------------------\")\n",
        "print(df2)"
      ],
      "metadata": {
        "id": "OgQz2VNlV5KN",
        "colab": {
          "base_uri": "https://localhost:8080/"
        },
        "outputId": "6b8680dc-aec8-478d-aa65-f88802cdf827"
      },
      "execution_count": null,
      "outputs": [
        {
          "output_type": "stream",
          "name": "stdout",
          "text": [
            "Original DataFrames:\n",
            "  student_id              name  marks\n",
            "0         S1  Danniella Fenton    200\n",
            "1         S2      Ryder Storey    210\n",
            "2         S3      Bryce Jensen    190\n",
            "3         S4         Ed Bernal    222\n",
            "4         S5       Kwame Morin    199\n",
            "-------------------------------------\n",
            "  student_id              name  marks\n",
            "0         S4  Scarlette Fisher    201\n",
            "1         S5  Carla Williamson    200\n",
            "2         S6       Dante Morse    198\n",
            "3         S7    Kaiser William    219\n",
            "4         S8   Madeeha Preston    201\n"
          ]
        }
      ]
    },
    {
      "cell_type": "markdown",
      "source": [
        "###Q 6.1\n",
        "join the two given dataframes along **rows** and assign all data."
      ],
      "metadata": {
        "id": "Q5t6K7C5Vzsh"
      }
    },
    {
      "cell_type": "code",
      "source": [
        "#join two dataframe by row\n",
        "result_df = pd.concat([df, df2])\n",
        "\n",
        "#display result\n",
        "print(\"Join the said two dataframes along rows:\")\n",
        "print(result_df)"
      ],
      "metadata": {
        "id": "0evR2h1oUoWI",
        "colab": {
          "base_uri": "https://localhost:8080/"
        },
        "outputId": "5affcaf8-c7ee-4012-b8e1-d31eba7ccc32"
      },
      "execution_count": null,
      "outputs": [
        {
          "output_type": "stream",
          "name": "stdout",
          "text": [
            "Join the said two dataframes along rows:\n",
            "  student_id              name  marks\n",
            "0         S1  Danniella Fenton    200\n",
            "1         S2      Ryder Storey    210\n",
            "2         S3      Bryce Jensen    190\n",
            "3         S4         Ed Bernal    222\n",
            "4         S5       Kwame Morin    199\n",
            "0         S4  Scarlette Fisher    201\n",
            "1         S5  Carla Williamson    200\n",
            "2         S6       Dante Morse    198\n",
            "3         S7    Kaiser William    219\n",
            "4         S8   Madeeha Preston    201\n"
          ]
        }
      ]
    },
    {
      "cell_type": "markdown",
      "source": [
        "###Q 6.2\n",
        "join the two given dataframes along **columns** and assign all data."
      ],
      "metadata": {
        "id": "LiHYeV1VV_jT"
      }
    },
    {
      "cell_type": "code",
      "source": [
        "#join two dataframe by column\n",
        "result_df = pd.concat([df, df2], axis=1)\n",
        "\n",
        "#display result\n",
        "print(\"Join the said two dataframes along columns:\")\n",
        "print(result_df)"
      ],
      "metadata": {
        "id": "PvnZ7t5bWP0X",
        "colab": {
          "base_uri": "https://localhost:8080/"
        },
        "outputId": "21912504-0825-451e-c274-4176a2a41290"
      },
      "execution_count": null,
      "outputs": [
        {
          "output_type": "stream",
          "name": "stdout",
          "text": [
            "Join the said two dataframes along columns:\n",
            "  student_id              name  marks student_id              name  marks\n",
            "0         S1  Danniella Fenton    200         S4  Scarlette Fisher    201\n",
            "1         S2      Ryder Storey    210         S5  Carla Williamson    200\n",
            "2         S3      Bryce Jensen    190         S6       Dante Morse    198\n",
            "3         S4         Ed Bernal    222         S7    Kaiser William    219\n",
            "4         S5       Kwame Morin    199         S8   Madeeha Preston    201\n"
          ]
        }
      ]
    },
    {
      "cell_type": "markdown",
      "source": [
        "###Q 6.3\n",
        "append a list of dictioneries to a existing DataFrame and display the combined data.\n",
        "\n",
        "```\n",
        "Dictionary:\n",
        "student_id                  S6\n",
        "name          Scarlette Fisher\n",
        "marks                      203\n",
        "\n",
        "student_id                  S7\n",
        "name          Scarlette Fisher\n",
        "marks                      207\n",
        "```"
      ],
      "metadata": {
        "id": "MX7qqjkbWqKt"
      }
    },
    {
      "cell_type": "code",
      "source": [
        "#create dictionary\n",
        "new_data = [{'student_id': 'S6', 'name': 'Scarlette Fisher', 'marks': 203},\n",
        "            {'student_id': 'S7', 'name': 'Bryce Jensen', 'marks': 207}]\n",
        "\n",
        "#display dictionary\n",
        "new_data"
      ],
      "metadata": {
        "id": "NMbx9kmSWsrA",
        "colab": {
          "base_uri": "https://localhost:8080/"
        },
        "outputId": "d922b9f0-f2c4-4688-d982-c056c0fe5b7a"
      },
      "execution_count": null,
      "outputs": [
        {
          "output_type": "execute_result",
          "data": {
            "text/plain": [
              "[{'student_id': 'S6', 'name': 'Scarlette Fisher', 'marks': 203},\n",
              " {'student_id': 'S7', 'name': 'Bryce Jensen', 'marks': 207}]"
            ]
          },
          "metadata": {},
          "execution_count": 6
        }
      ]
    },
    {
      "cell_type": "code",
      "source": [
        "#append dicts with dataframe\n",
        "combined_df = pd.concat([df, pd.DataFrame(new_data)], ignore_index=True)\n",
        "\n",
        "#display result\n",
        "print(\"Combined Data:\")\n",
        "print(combined_df)"
      ],
      "metadata": {
        "id": "xApZ96n8X_pz",
        "colab": {
          "base_uri": "https://localhost:8080/"
        },
        "outputId": "cb681976-956d-434c-e160-2faea48961f2"
      },
      "execution_count": null,
      "outputs": [
        {
          "output_type": "stream",
          "name": "stdout",
          "text": [
            "Combined Data:\n",
            "  student_id              name  marks\n",
            "0         S1  Danniella Fenton    200\n",
            "1         S2      Ryder Storey    210\n",
            "2         S3      Bryce Jensen    190\n",
            "3         S4         Ed Bernal    222\n",
            "4         S5       Kwame Morin    199\n",
            "5         S6  Scarlette Fisher    203\n",
            "6         S7      Bryce Jensen    207\n"
          ]
        }
      ]
    },
    {
      "cell_type": "markdown",
      "source": [
        "###Q 6.4\n",
        "join the two given dataframes along rows and merge with another dataframe along the common column id\n",
        "\n",
        "```\n",
        "exam_data:\n",
        "   student_id  exam_id\n",
        "0          S1       23\n",
        "1          S2       45\n",
        "2          S3       12\n",
        "3          S4       67\n",
        "4          S5       21\n",
        "5          S7       55\n",
        "6          S8       33\n",
        "7          S9       14\n",
        "8         S10       56\n",
        "9         S11       83\n",
        "10        S12       88\n",
        "11        S13       12\n",
        "```\n",
        "\n"
      ],
      "metadata": {
        "id": "SxTvUAkkY1kG"
      }
    },
    {
      "cell_type": "code",
      "source": [
        "#create dataframe\n",
        "exam_data = {'student_id': ['S1', 'S2', 'S3', 'S4', 'S5', 'S7', 'S8', 'S9', 'S10', 'S11', 'S12', 'S13'],\n",
        "             'exam_id': [23, 45, 12, 67, 21, 55, 33, 14, 56, 83, 88, 12]}\n",
        "df_exam = pd.DataFrame(exam_data)"
      ],
      "metadata": {
        "id": "Ll2t_hjWZJvT"
      },
      "execution_count": null,
      "outputs": []
    },
    {
      "cell_type": "code",
      "source": [
        "#concatenate two dataframe\n",
        "result_df = pd.concat([df, df2])\n",
        "\n",
        "#display result\n",
        "print(\"Join the said two dataframes along rows:\")\n",
        "print(result_df)"
      ],
      "metadata": {
        "colab": {
          "base_uri": "https://localhost:8080/"
        },
        "id": "H5uvSObgEwfc",
        "outputId": "1a49b764-1897-482b-8dc1-1db5028684cd"
      },
      "execution_count": null,
      "outputs": [
        {
          "output_type": "stream",
          "name": "stdout",
          "text": [
            "Join the said two dataframes along rows:\n",
            "  student_id              name  marks\n",
            "0         S1  Danniella Fenton    200\n",
            "1         S2      Ryder Storey    210\n",
            "2         S3      Bryce Jensen    190\n",
            "3         S4         Ed Bernal    222\n",
            "4         S5       Kwame Morin    199\n",
            "0         S4  Scarlette Fisher    201\n",
            "1         S5  Carla Williamson    200\n",
            "2         S6       Dante Morse    198\n",
            "3         S7    Kaiser William    219\n",
            "4         S8   Madeeha Preston    201\n"
          ]
        }
      ]
    },
    {
      "cell_type": "code",
      "source": [
        "#merge dataframe\n",
        "result_df_merge = pd.merge(result_df,df_exam,on=\"student_id\")\n",
        "\n",
        "#display result\n",
        "print(\"Now join the said result_data and df_exam_data along student_id:\")\n",
        "print(result_df_merge)"
      ],
      "metadata": {
        "id": "F8L2M1F4C4QZ",
        "colab": {
          "base_uri": "https://localhost:8080/"
        },
        "outputId": "432a5e0e-cc60-4415-f926-246076cc15c7"
      },
      "execution_count": null,
      "outputs": [
        {
          "output_type": "stream",
          "name": "stdout",
          "text": [
            "Now join the said result_data and df_exam_data along student_id:\n",
            "  student_id              name  marks  exam_id\n",
            "0         S1  Danniella Fenton    200       23\n",
            "1         S2      Ryder Storey    210       45\n",
            "2         S3      Bryce Jensen    190       12\n",
            "3         S4         Ed Bernal    222       67\n",
            "4         S4  Scarlette Fisher    201       67\n",
            "5         S5       Kwame Morin    199       21\n",
            "6         S5  Carla Williamson    200       21\n",
            "7         S7    Kaiser William    219       55\n",
            "8         S8   Madeeha Preston    201       33\n"
          ]
        }
      ]
    },
    {
      "cell_type": "markdown",
      "source": [
        "###Q 6.5\n",
        "join the two dataframes using the common column of both dataframes."
      ],
      "metadata": {
        "id": "EuNlGKeXZmG3"
      }
    },
    {
      "cell_type": "code",
      "source": [
        "#merge dataframe\n",
        "merged_data = pd.merge(df, df2, on='student_id', how='inner')\n",
        "\n",
        "\n",
        "#display result\n",
        "print(\"Merged data (inner join):\")\n",
        "print(merged_data)"
      ],
      "metadata": {
        "id": "QGUFc6_iZqwP",
        "colab": {
          "base_uri": "https://localhost:8080/"
        },
        "outputId": "40a1a1ed-3d65-4431-e781-56ae9a5afae3"
      },
      "execution_count": null,
      "outputs": [
        {
          "output_type": "stream",
          "name": "stdout",
          "text": [
            "Merged data (inner join):\n",
            "  student_id       name_x  marks_x            name_y  marks_y\n",
            "0         S4    Ed Bernal      222  Scarlette Fisher      201\n",
            "1         S5  Kwame Morin      199  Carla Williamson      200\n"
          ]
        }
      ]
    },
    {
      "cell_type": "markdown",
      "source": [
        "##Exercise 7"
      ],
      "metadata": {
        "id": "YVUR6xNsBDqE"
      }
    },
    {
      "cell_type": "code",
      "source": [
        "#import pandas libraries and name it to be pd.\n",
        "import pandas as pd"
      ],
      "metadata": {
        "id": "OHgo_-9rNzES"
      },
      "execution_count": null,
      "outputs": []
    },
    {
      "cell_type": "code",
      "source": [
        "#import csv\n",
        "from google.colab import files\n",
        "\n",
        "# Upload the CSV file using the file picker dialog\n",
        "uploaded = files.upload()\n",
        "\n",
        "# Get the file name from the uploaded files\n",
        "file_name = list(uploaded.keys())[0]\n",
        "\n",
        "# Read the CSV file into a DataFrame\n",
        "df = pd.read_csv(file_name)\n",
        "df"
      ],
      "metadata": {
        "id": "zvUDHPCFN0oh",
        "colab": {
          "base_uri": "https://localhost:8080/",
          "height": 479
        },
        "outputId": "f742bcb3-7c0d-4921-e92f-35337afd87f3"
      },
      "execution_count": null,
      "outputs": [
        {
          "output_type": "display_data",
          "data": {
            "text/plain": [
              "<IPython.core.display.HTML object>"
            ],
            "text/html": [
              "\n",
              "     <input type=\"file\" id=\"files-5bf7c6e2-cc70-4ce6-8af5-0a95de5b31e0\" name=\"files[]\" multiple disabled\n",
              "        style=\"border:none\" />\n",
              "     <output id=\"result-5bf7c6e2-cc70-4ce6-8af5-0a95de5b31e0\">\n",
              "      Upload widget is only available when the cell has been executed in the\n",
              "      current browser session. Please rerun this cell to enable.\n",
              "      </output>\n",
              "      <script>// Copyright 2017 Google LLC\n",
              "//\n",
              "// Licensed under the Apache License, Version 2.0 (the \"License\");\n",
              "// you may not use this file except in compliance with the License.\n",
              "// You may obtain a copy of the License at\n",
              "//\n",
              "//      http://www.apache.org/licenses/LICENSE-2.0\n",
              "//\n",
              "// Unless required by applicable law or agreed to in writing, software\n",
              "// distributed under the License is distributed on an \"AS IS\" BASIS,\n",
              "// WITHOUT WARRANTIES OR CONDITIONS OF ANY KIND, either express or implied.\n",
              "// See the License for the specific language governing permissions and\n",
              "// limitations under the License.\n",
              "\n",
              "/**\n",
              " * @fileoverview Helpers for google.colab Python module.\n",
              " */\n",
              "(function(scope) {\n",
              "function span(text, styleAttributes = {}) {\n",
              "  const element = document.createElement('span');\n",
              "  element.textContent = text;\n",
              "  for (const key of Object.keys(styleAttributes)) {\n",
              "    element.style[key] = styleAttributes[key];\n",
              "  }\n",
              "  return element;\n",
              "}\n",
              "\n",
              "// Max number of bytes which will be uploaded at a time.\n",
              "const MAX_PAYLOAD_SIZE = 100 * 1024;\n",
              "\n",
              "function _uploadFiles(inputId, outputId) {\n",
              "  const steps = uploadFilesStep(inputId, outputId);\n",
              "  const outputElement = document.getElementById(outputId);\n",
              "  // Cache steps on the outputElement to make it available for the next call\n",
              "  // to uploadFilesContinue from Python.\n",
              "  outputElement.steps = steps;\n",
              "\n",
              "  return _uploadFilesContinue(outputId);\n",
              "}\n",
              "\n",
              "// This is roughly an async generator (not supported in the browser yet),\n",
              "// where there are multiple asynchronous steps and the Python side is going\n",
              "// to poll for completion of each step.\n",
              "// This uses a Promise to block the python side on completion of each step,\n",
              "// then passes the result of the previous step as the input to the next step.\n",
              "function _uploadFilesContinue(outputId) {\n",
              "  const outputElement = document.getElementById(outputId);\n",
              "  const steps = outputElement.steps;\n",
              "\n",
              "  const next = steps.next(outputElement.lastPromiseValue);\n",
              "  return Promise.resolve(next.value.promise).then((value) => {\n",
              "    // Cache the last promise value to make it available to the next\n",
              "    // step of the generator.\n",
              "    outputElement.lastPromiseValue = value;\n",
              "    return next.value.response;\n",
              "  });\n",
              "}\n",
              "\n",
              "/**\n",
              " * Generator function which is called between each async step of the upload\n",
              " * process.\n",
              " * @param {string} inputId Element ID of the input file picker element.\n",
              " * @param {string} outputId Element ID of the output display.\n",
              " * @return {!Iterable<!Object>} Iterable of next steps.\n",
              " */\n",
              "function* uploadFilesStep(inputId, outputId) {\n",
              "  const inputElement = document.getElementById(inputId);\n",
              "  inputElement.disabled = false;\n",
              "\n",
              "  const outputElement = document.getElementById(outputId);\n",
              "  outputElement.innerHTML = '';\n",
              "\n",
              "  const pickedPromise = new Promise((resolve) => {\n",
              "    inputElement.addEventListener('change', (e) => {\n",
              "      resolve(e.target.files);\n",
              "    });\n",
              "  });\n",
              "\n",
              "  const cancel = document.createElement('button');\n",
              "  inputElement.parentElement.appendChild(cancel);\n",
              "  cancel.textContent = 'Cancel upload';\n",
              "  const cancelPromise = new Promise((resolve) => {\n",
              "    cancel.onclick = () => {\n",
              "      resolve(null);\n",
              "    };\n",
              "  });\n",
              "\n",
              "  // Wait for the user to pick the files.\n",
              "  const files = yield {\n",
              "    promise: Promise.race([pickedPromise, cancelPromise]),\n",
              "    response: {\n",
              "      action: 'starting',\n",
              "    }\n",
              "  };\n",
              "\n",
              "  cancel.remove();\n",
              "\n",
              "  // Disable the input element since further picks are not allowed.\n",
              "  inputElement.disabled = true;\n",
              "\n",
              "  if (!files) {\n",
              "    return {\n",
              "      response: {\n",
              "        action: 'complete',\n",
              "      }\n",
              "    };\n",
              "  }\n",
              "\n",
              "  for (const file of files) {\n",
              "    const li = document.createElement('li');\n",
              "    li.append(span(file.name, {fontWeight: 'bold'}));\n",
              "    li.append(span(\n",
              "        `(${file.type || 'n/a'}) - ${file.size} bytes, ` +\n",
              "        `last modified: ${\n",
              "            file.lastModifiedDate ? file.lastModifiedDate.toLocaleDateString() :\n",
              "                                    'n/a'} - `));\n",
              "    const percent = span('0% done');\n",
              "    li.appendChild(percent);\n",
              "\n",
              "    outputElement.appendChild(li);\n",
              "\n",
              "    const fileDataPromise = new Promise((resolve) => {\n",
              "      const reader = new FileReader();\n",
              "      reader.onload = (e) => {\n",
              "        resolve(e.target.result);\n",
              "      };\n",
              "      reader.readAsArrayBuffer(file);\n",
              "    });\n",
              "    // Wait for the data to be ready.\n",
              "    let fileData = yield {\n",
              "      promise: fileDataPromise,\n",
              "      response: {\n",
              "        action: 'continue',\n",
              "      }\n",
              "    };\n",
              "\n",
              "    // Use a chunked sending to avoid message size limits. See b/62115660.\n",
              "    let position = 0;\n",
              "    do {\n",
              "      const length = Math.min(fileData.byteLength - position, MAX_PAYLOAD_SIZE);\n",
              "      const chunk = new Uint8Array(fileData, position, length);\n",
              "      position += length;\n",
              "\n",
              "      const base64 = btoa(String.fromCharCode.apply(null, chunk));\n",
              "      yield {\n",
              "        response: {\n",
              "          action: 'append',\n",
              "          file: file.name,\n",
              "          data: base64,\n",
              "        },\n",
              "      };\n",
              "\n",
              "      let percentDone = fileData.byteLength === 0 ?\n",
              "          100 :\n",
              "          Math.round((position / fileData.byteLength) * 100);\n",
              "      percent.textContent = `${percentDone}% done`;\n",
              "\n",
              "    } while (position < fileData.byteLength);\n",
              "  }\n",
              "\n",
              "  // All done.\n",
              "  yield {\n",
              "    response: {\n",
              "      action: 'complete',\n",
              "    }\n",
              "  };\n",
              "}\n",
              "\n",
              "scope.google = scope.google || {};\n",
              "scope.google.colab = scope.google.colab || {};\n",
              "scope.google.colab._files = {\n",
              "  _uploadFiles,\n",
              "  _uploadFilesContinue,\n",
              "};\n",
              "})(self);\n",
              "</script> "
            ]
          },
          "metadata": {}
        },
        {
          "output_type": "stream",
          "name": "stdout",
          "text": [
            "Saving Alcohol_Dataset.csv to Alcohol_Dataset.csv\n"
          ]
        },
        {
          "output_type": "execute_result",
          "data": {
            "text/plain": [
              "    Year       WHO region                                Country  \\\n",
              "0   1986  Western Pacific                               Viet Nam   \n",
              "1   1986         Americas                                Uruguay   \n",
              "2   1985           Africa                           Cte d'Ivoire   \n",
              "3   1986         Americas                               Colombia   \n",
              "4   1987         Americas                  Saint Kitts and Nevis   \n",
              "..   ...              ...                                    ...   \n",
              "95  1984           Africa                                  Niger   \n",
              "96  1985           Europe                             Luxembourg   \n",
              "97  1984  South-East Asia                              Indonesia   \n",
              "98  1984           Africa                      Equatorial Guinea   \n",
              "99  1985  South-East Asia  Democratic People's Republic of Korea   \n",
              "\n",
              "   Beverage Types  Display Value  \n",
              "0            Wine           0.00  \n",
              "1           Other           0.50  \n",
              "2            Wine           1.62  \n",
              "3            Beer           4.27  \n",
              "4            Beer           1.98  \n",
              "..            ...            ...  \n",
              "95          Other           0.00  \n",
              "96           Wine           7.38  \n",
              "97           Wine           0.00  \n",
              "98           Wine           0.00  \n",
              "99           Wine           0.00  \n",
              "\n",
              "[100 rows x 5 columns]"
            ],
            "text/html": [
              "\n",
              "  <div id=\"df-d469d530-9ace-4b2b-b9e8-2fe85d66332e\" class=\"colab-df-container\">\n",
              "    <div>\n",
              "<style scoped>\n",
              "    .dataframe tbody tr th:only-of-type {\n",
              "        vertical-align: middle;\n",
              "    }\n",
              "\n",
              "    .dataframe tbody tr th {\n",
              "        vertical-align: top;\n",
              "    }\n",
              "\n",
              "    .dataframe thead th {\n",
              "        text-align: right;\n",
              "    }\n",
              "</style>\n",
              "<table border=\"1\" class=\"dataframe\">\n",
              "  <thead>\n",
              "    <tr style=\"text-align: right;\">\n",
              "      <th></th>\n",
              "      <th>Year</th>\n",
              "      <th>WHO region</th>\n",
              "      <th>Country</th>\n",
              "      <th>Beverage Types</th>\n",
              "      <th>Display Value</th>\n",
              "    </tr>\n",
              "  </thead>\n",
              "  <tbody>\n",
              "    <tr>\n",
              "      <th>0</th>\n",
              "      <td>1986</td>\n",
              "      <td>Western Pacific</td>\n",
              "      <td>Viet Nam</td>\n",
              "      <td>Wine</td>\n",
              "      <td>0.00</td>\n",
              "    </tr>\n",
              "    <tr>\n",
              "      <th>1</th>\n",
              "      <td>1986</td>\n",
              "      <td>Americas</td>\n",
              "      <td>Uruguay</td>\n",
              "      <td>Other</td>\n",
              "      <td>0.50</td>\n",
              "    </tr>\n",
              "    <tr>\n",
              "      <th>2</th>\n",
              "      <td>1985</td>\n",
              "      <td>Africa</td>\n",
              "      <td>Cte d'Ivoire</td>\n",
              "      <td>Wine</td>\n",
              "      <td>1.62</td>\n",
              "    </tr>\n",
              "    <tr>\n",
              "      <th>3</th>\n",
              "      <td>1986</td>\n",
              "      <td>Americas</td>\n",
              "      <td>Colombia</td>\n",
              "      <td>Beer</td>\n",
              "      <td>4.27</td>\n",
              "    </tr>\n",
              "    <tr>\n",
              "      <th>4</th>\n",
              "      <td>1987</td>\n",
              "      <td>Americas</td>\n",
              "      <td>Saint Kitts and Nevis</td>\n",
              "      <td>Beer</td>\n",
              "      <td>1.98</td>\n",
              "    </tr>\n",
              "    <tr>\n",
              "      <th>...</th>\n",
              "      <td>...</td>\n",
              "      <td>...</td>\n",
              "      <td>...</td>\n",
              "      <td>...</td>\n",
              "      <td>...</td>\n",
              "    </tr>\n",
              "    <tr>\n",
              "      <th>95</th>\n",
              "      <td>1984</td>\n",
              "      <td>Africa</td>\n",
              "      <td>Niger</td>\n",
              "      <td>Other</td>\n",
              "      <td>0.00</td>\n",
              "    </tr>\n",
              "    <tr>\n",
              "      <th>96</th>\n",
              "      <td>1985</td>\n",
              "      <td>Europe</td>\n",
              "      <td>Luxembourg</td>\n",
              "      <td>Wine</td>\n",
              "      <td>7.38</td>\n",
              "    </tr>\n",
              "    <tr>\n",
              "      <th>97</th>\n",
              "      <td>1984</td>\n",
              "      <td>South-East Asia</td>\n",
              "      <td>Indonesia</td>\n",
              "      <td>Wine</td>\n",
              "      <td>0.00</td>\n",
              "    </tr>\n",
              "    <tr>\n",
              "      <th>98</th>\n",
              "      <td>1984</td>\n",
              "      <td>Africa</td>\n",
              "      <td>Equatorial Guinea</td>\n",
              "      <td>Wine</td>\n",
              "      <td>0.00</td>\n",
              "    </tr>\n",
              "    <tr>\n",
              "      <th>99</th>\n",
              "      <td>1985</td>\n",
              "      <td>South-East Asia</td>\n",
              "      <td>Democratic People's Republic of Korea</td>\n",
              "      <td>Wine</td>\n",
              "      <td>0.00</td>\n",
              "    </tr>\n",
              "  </tbody>\n",
              "</table>\n",
              "<p>100 rows × 5 columns</p>\n",
              "</div>\n",
              "    <div class=\"colab-df-buttons\">\n",
              "\n",
              "  <div class=\"colab-df-container\">\n",
              "    <button class=\"colab-df-convert\" onclick=\"convertToInteractive('df-d469d530-9ace-4b2b-b9e8-2fe85d66332e')\"\n",
              "            title=\"Convert this dataframe to an interactive table.\"\n",
              "            style=\"display:none;\">\n",
              "\n",
              "  <svg xmlns=\"http://www.w3.org/2000/svg\" height=\"24px\" viewBox=\"0 -960 960 960\">\n",
              "    <path d=\"M120-120v-720h720v720H120Zm60-500h600v-160H180v160Zm220 220h160v-160H400v160Zm0 220h160v-160H400v160ZM180-400h160v-160H180v160Zm440 0h160v-160H620v160ZM180-180h160v-160H180v160Zm440 0h160v-160H620v160Z\"/>\n",
              "  </svg>\n",
              "    </button>\n",
              "\n",
              "  <style>\n",
              "    .colab-df-container {\n",
              "      display:flex;\n",
              "      gap: 12px;\n",
              "    }\n",
              "\n",
              "    .colab-df-convert {\n",
              "      background-color: #E8F0FE;\n",
              "      border: none;\n",
              "      border-radius: 50%;\n",
              "      cursor: pointer;\n",
              "      display: none;\n",
              "      fill: #1967D2;\n",
              "      height: 32px;\n",
              "      padding: 0 0 0 0;\n",
              "      width: 32px;\n",
              "    }\n",
              "\n",
              "    .colab-df-convert:hover {\n",
              "      background-color: #E2EBFA;\n",
              "      box-shadow: 0px 1px 2px rgba(60, 64, 67, 0.3), 0px 1px 3px 1px rgba(60, 64, 67, 0.15);\n",
              "      fill: #174EA6;\n",
              "    }\n",
              "\n",
              "    .colab-df-buttons div {\n",
              "      margin-bottom: 4px;\n",
              "    }\n",
              "\n",
              "    [theme=dark] .colab-df-convert {\n",
              "      background-color: #3B4455;\n",
              "      fill: #D2E3FC;\n",
              "    }\n",
              "\n",
              "    [theme=dark] .colab-df-convert:hover {\n",
              "      background-color: #434B5C;\n",
              "      box-shadow: 0px 1px 3px 1px rgba(0, 0, 0, 0.15);\n",
              "      filter: drop-shadow(0px 1px 2px rgba(0, 0, 0, 0.3));\n",
              "      fill: #FFFFFF;\n",
              "    }\n",
              "  </style>\n",
              "\n",
              "    <script>\n",
              "      const buttonEl =\n",
              "        document.querySelector('#df-d469d530-9ace-4b2b-b9e8-2fe85d66332e button.colab-df-convert');\n",
              "      buttonEl.style.display =\n",
              "        google.colab.kernel.accessAllowed ? 'block' : 'none';\n",
              "\n",
              "      async function convertToInteractive(key) {\n",
              "        const element = document.querySelector('#df-d469d530-9ace-4b2b-b9e8-2fe85d66332e');\n",
              "        const dataTable =\n",
              "          await google.colab.kernel.invokeFunction('convertToInteractive',\n",
              "                                                    [key], {});\n",
              "        if (!dataTable) return;\n",
              "\n",
              "        const docLinkHtml = 'Like what you see? Visit the ' +\n",
              "          '<a target=\"_blank\" href=https://colab.research.google.com/notebooks/data_table.ipynb>data table notebook</a>'\n",
              "          + ' to learn more about interactive tables.';\n",
              "        element.innerHTML = '';\n",
              "        dataTable['output_type'] = 'display_data';\n",
              "        await google.colab.output.renderOutput(dataTable, element);\n",
              "        const docLink = document.createElement('div');\n",
              "        docLink.innerHTML = docLinkHtml;\n",
              "        element.appendChild(docLink);\n",
              "      }\n",
              "    </script>\n",
              "  </div>\n",
              "\n",
              "\n",
              "<div id=\"df-0ca1c61d-4ee4-4f3f-833b-04494aa49cf5\">\n",
              "  <button class=\"colab-df-quickchart\" onclick=\"quickchart('df-0ca1c61d-4ee4-4f3f-833b-04494aa49cf5')\"\n",
              "            title=\"Suggest charts\"\n",
              "            style=\"display:none;\">\n",
              "\n",
              "<svg xmlns=\"http://www.w3.org/2000/svg\" height=\"24px\"viewBox=\"0 0 24 24\"\n",
              "     width=\"24px\">\n",
              "    <g>\n",
              "        <path d=\"M19 3H5c-1.1 0-2 .9-2 2v14c0 1.1.9 2 2 2h14c1.1 0 2-.9 2-2V5c0-1.1-.9-2-2-2zM9 17H7v-7h2v7zm4 0h-2V7h2v10zm4 0h-2v-4h2v4z\"/>\n",
              "    </g>\n",
              "</svg>\n",
              "  </button>\n",
              "\n",
              "<style>\n",
              "  .colab-df-quickchart {\n",
              "      --bg-color: #E8F0FE;\n",
              "      --fill-color: #1967D2;\n",
              "      --hover-bg-color: #E2EBFA;\n",
              "      --hover-fill-color: #174EA6;\n",
              "      --disabled-fill-color: #AAA;\n",
              "      --disabled-bg-color: #DDD;\n",
              "  }\n",
              "\n",
              "  [theme=dark] .colab-df-quickchart {\n",
              "      --bg-color: #3B4455;\n",
              "      --fill-color: #D2E3FC;\n",
              "      --hover-bg-color: #434B5C;\n",
              "      --hover-fill-color: #FFFFFF;\n",
              "      --disabled-bg-color: #3B4455;\n",
              "      --disabled-fill-color: #666;\n",
              "  }\n",
              "\n",
              "  .colab-df-quickchart {\n",
              "    background-color: var(--bg-color);\n",
              "    border: none;\n",
              "    border-radius: 50%;\n",
              "    cursor: pointer;\n",
              "    display: none;\n",
              "    fill: var(--fill-color);\n",
              "    height: 32px;\n",
              "    padding: 0;\n",
              "    width: 32px;\n",
              "  }\n",
              "\n",
              "  .colab-df-quickchart:hover {\n",
              "    background-color: var(--hover-bg-color);\n",
              "    box-shadow: 0 1px 2px rgba(60, 64, 67, 0.3), 0 1px 3px 1px rgba(60, 64, 67, 0.15);\n",
              "    fill: var(--button-hover-fill-color);\n",
              "  }\n",
              "\n",
              "  .colab-df-quickchart-complete:disabled,\n",
              "  .colab-df-quickchart-complete:disabled:hover {\n",
              "    background-color: var(--disabled-bg-color);\n",
              "    fill: var(--disabled-fill-color);\n",
              "    box-shadow: none;\n",
              "  }\n",
              "\n",
              "  .colab-df-spinner {\n",
              "    border: 2px solid var(--fill-color);\n",
              "    border-color: transparent;\n",
              "    border-bottom-color: var(--fill-color);\n",
              "    animation:\n",
              "      spin 1s steps(1) infinite;\n",
              "  }\n",
              "\n",
              "  @keyframes spin {\n",
              "    0% {\n",
              "      border-color: transparent;\n",
              "      border-bottom-color: var(--fill-color);\n",
              "      border-left-color: var(--fill-color);\n",
              "    }\n",
              "    20% {\n",
              "      border-color: transparent;\n",
              "      border-left-color: var(--fill-color);\n",
              "      border-top-color: var(--fill-color);\n",
              "    }\n",
              "    30% {\n",
              "      border-color: transparent;\n",
              "      border-left-color: var(--fill-color);\n",
              "      border-top-color: var(--fill-color);\n",
              "      border-right-color: var(--fill-color);\n",
              "    }\n",
              "    40% {\n",
              "      border-color: transparent;\n",
              "      border-right-color: var(--fill-color);\n",
              "      border-top-color: var(--fill-color);\n",
              "    }\n",
              "    60% {\n",
              "      border-color: transparent;\n",
              "      border-right-color: var(--fill-color);\n",
              "    }\n",
              "    80% {\n",
              "      border-color: transparent;\n",
              "      border-right-color: var(--fill-color);\n",
              "      border-bottom-color: var(--fill-color);\n",
              "    }\n",
              "    90% {\n",
              "      border-color: transparent;\n",
              "      border-bottom-color: var(--fill-color);\n",
              "    }\n",
              "  }\n",
              "</style>\n",
              "\n",
              "  <script>\n",
              "    async function quickchart(key) {\n",
              "      const quickchartButtonEl =\n",
              "        document.querySelector('#' + key + ' button');\n",
              "      quickchartButtonEl.disabled = true;  // To prevent multiple clicks.\n",
              "      quickchartButtonEl.classList.add('colab-df-spinner');\n",
              "      try {\n",
              "        const charts = await google.colab.kernel.invokeFunction(\n",
              "            'suggestCharts', [key], {});\n",
              "      } catch (error) {\n",
              "        console.error('Error during call to suggestCharts:', error);\n",
              "      }\n",
              "      quickchartButtonEl.classList.remove('colab-df-spinner');\n",
              "      quickchartButtonEl.classList.add('colab-df-quickchart-complete');\n",
              "    }\n",
              "    (() => {\n",
              "      let quickchartButtonEl =\n",
              "        document.querySelector('#df-0ca1c61d-4ee4-4f3f-833b-04494aa49cf5 button');\n",
              "      quickchartButtonEl.style.display =\n",
              "        google.colab.kernel.accessAllowed ? 'block' : 'none';\n",
              "    })();\n",
              "  </script>\n",
              "</div>\n",
              "    </div>\n",
              "  </div>\n"
            ]
          },
          "metadata": {},
          "execution_count": 13
        }
      ]
    },
    {
      "cell_type": "markdown",
      "source": [
        "###Q 7.1\n",
        "display the dimensions or shape of Alcohol_Dataset. Also extract the column names from the dataset."
      ],
      "metadata": {
        "id": "S0jLlJiCNiI8"
      }
    },
    {
      "cell_type": "code",
      "source": [
        "#check head\n",
        "df_head = df.head()\n",
        "print('head:')\n",
        "print(df_head)\n",
        "\n",
        "#check shape\n",
        "df_shape = df.shape\n",
        "print(\"Shape of the dataframe:\",df_shape)\n",
        "\n",
        "#check column name\n",
        "df_columns = df.columns\n",
        "print(\"columns:\")\n",
        "print(df_columns)"
      ],
      "metadata": {
        "id": "2GEhnAD0OurP",
        "colab": {
          "base_uri": "https://localhost:8080/"
        },
        "outputId": "5dbfda05-defe-46a9-e3e0-e92cb5bdcaf1"
      },
      "execution_count": null,
      "outputs": [
        {
          "output_type": "stream",
          "name": "stdout",
          "text": [
            "head:\n",
            "   Year       WHO region                Country Beverage Types  Display Value\n",
            "0  1986  Western Pacific               Viet Nam           Wine           0.00\n",
            "1  1986         Americas                Uruguay          Other           0.50\n",
            "2  1985           Africa           Cte d'Ivoire           Wine           1.62\n",
            "3  1986         Americas               Colombia           Beer           4.27\n",
            "4  1987         Americas  Saint Kitts and Nevis           Beer           1.98\n",
            "Shape of the dataframe: (100, 5)\n",
            "columns:\n",
            "Index(['Year', 'WHO region', 'Country', 'Beverage Types', 'Display Value'], dtype='object')\n"
          ]
        }
      ]
    },
    {
      "cell_type": "markdown",
      "source": [
        "###Q 7.2\n",
        "find and drop the missing values from Alcohol_Dataset."
      ],
      "metadata": {
        "id": "2UlK19XJP_D-"
      }
    },
    {
      "cell_type": "code",
      "source": [
        "#find missing value\n",
        "missing_values = df.isnull()\n",
        "print(missing_values)"
      ],
      "metadata": {
        "id": "RWWHP6xbQB5z",
        "colab": {
          "base_uri": "https://localhost:8080/"
        },
        "outputId": "c55f41cb-34ce-4048-884f-8ec9344dd2b1"
      },
      "execution_count": null,
      "outputs": [
        {
          "output_type": "stream",
          "name": "stdout",
          "text": [
            "     Year  WHO region  Country  Beverage Types  Display Value\n",
            "0   False       False    False           False          False\n",
            "1   False       False    False           False          False\n",
            "2   False       False    False           False          False\n",
            "3   False       False    False           False          False\n",
            "4   False       False    False           False          False\n",
            "..    ...         ...      ...             ...            ...\n",
            "95  False       False    False           False          False\n",
            "96  False       False    False           False          False\n",
            "97  False       False    False           False          False\n",
            "98  False       False    False           False          False\n",
            "99  False       False    False           False          False\n",
            "\n",
            "[100 rows x 5 columns]\n"
          ]
        }
      ]
    },
    {
      "cell_type": "code",
      "source": [
        "#drop nan value\n",
        "df_without_nan = df.dropna()\n",
        "print(df_without_nan)"
      ],
      "metadata": {
        "id": "Rm8MkmjkQkVV",
        "colab": {
          "base_uri": "https://localhost:8080/"
        },
        "outputId": "5569e861-7479-44b5-cfcf-98bab85413a1"
      },
      "execution_count": null,
      "outputs": [
        {
          "output_type": "stream",
          "name": "stdout",
          "text": [
            "    Year       WHO region                                Country  \\\n",
            "0   1986  Western Pacific                               Viet Nam   \n",
            "1   1986         Americas                                Uruguay   \n",
            "2   1985           Africa                           Cte d'Ivoire   \n",
            "3   1986         Americas                               Colombia   \n",
            "4   1987         Americas                  Saint Kitts and Nevis   \n",
            "..   ...              ...                                    ...   \n",
            "95  1984           Africa                                  Niger   \n",
            "96  1985           Europe                             Luxembourg   \n",
            "97  1984  South-East Asia                              Indonesia   \n",
            "98  1984           Africa                      Equatorial Guinea   \n",
            "99  1985  South-East Asia  Democratic People's Republic of Korea   \n",
            "\n",
            "   Beverage Types  Display Value  \n",
            "0            Wine           0.00  \n",
            "1           Other           0.50  \n",
            "2            Wine           1.62  \n",
            "3            Beer           4.27  \n",
            "4            Beer           1.98  \n",
            "..            ...            ...  \n",
            "95          Other           0.00  \n",
            "96           Wine           7.38  \n",
            "97           Wine           0.00  \n",
            "98           Wine           0.00  \n",
            "99           Wine           0.00  \n",
            "\n",
            "[95 rows x 5 columns]\n"
          ]
        }
      ]
    },
    {
      "cell_type": "markdown",
      "source": [
        "###Q 7.3\n",
        "remove the duplicates from 'WHO region' column of Alcohol_Dataset."
      ],
      "metadata": {
        "id": "6NwlsYIhRPdc"
      }
    },
    {
      "cell_type": "code",
      "source": [
        "#drop duplicates\n",
        "Alcohol_Dataset_no_duplicates = df.drop_duplicates(subset='WHO region')\n",
        "print(Alcohol_Dataset_no_duplicates)"
      ],
      "metadata": {
        "id": "uQN4HhCFRST_",
        "colab": {
          "base_uri": "https://localhost:8080/"
        },
        "outputId": "e29e353a-2872-4ed3-855c-56fd61482958"
      },
      "execution_count": null,
      "outputs": [
        {
          "output_type": "stream",
          "name": "stdout",
          "text": [
            "    Year             WHO region       Country Beverage Types  Display Value\n",
            "0   1986        Western Pacific      Viet Nam           Wine           0.00\n",
            "1   1986               Americas       Uruguay          Other           0.50\n",
            "2   1985                 Africa  Cte d'Ivoire           Wine           1.62\n",
            "13  1984  Eastern Mediterranean   Afghanistan          Other           0.00\n",
            "18  1984                 Europe        Norway        Spirits           1.62\n",
            "20  1986        South-East Asia       Myanmar           Wine           0.00\n"
          ]
        }
      ]
    },
    {
      "cell_type": "markdown",
      "source": [
        "###Q 7.4\n",
        "find out the 'WHO region, 'Country', 'Beverage Types' in the year '1986' or '1989' where WHO region is 'Americas' or 'Europe' from Alcohol_Dataset."
      ],
      "metadata": {
        "id": "AyYwP0hRSGf_"
      }
    },
    {
      "cell_type": "code",
      "source": [
        "#find data\n",
        "#filtered_df = df[(df['WHO region'].isin(['Americas', 'Europe'])) &\n",
        " #(df['Year'].isin([1986,1989])) ]\n",
        "filtered_df = df[(df['WHO region'].isin(['Americas', 'Europe'])) &\n",
        " ((df['Year'] == 1986) | (df['Year'] == 1989))]\n",
        "print(\"The world alcohol consumption details in the year ‘1986’ or ‘1989’ where  WHO region is ‘Americas’  or 'Europe':\")\n",
        "print(filtered_df)"
      ],
      "metadata": {
        "id": "wrGcEKtKSJP-",
        "colab": {
          "base_uri": "https://localhost:8080/"
        },
        "outputId": "7032f53b-0ce7-4c61-9bb6-227a73029119"
      },
      "execution_count": null,
      "outputs": [
        {
          "output_type": "stream",
          "name": "stdout",
          "text": [
            "The world alcohol consumption details in the year ‘1986’ or ‘1989’ where  WHO region is ‘Americas’  or 'Europe':\n",
            "    Year WHO region                           Country Beverage Types  \\\n",
            "1   1986   Americas                           Uruguay          Other   \n",
            "3   1986   Americas                          Colombia           Beer   \n",
            "8   1986   Americas               Antigua and Barbuda        Spirits   \n",
            "11  1989   Americas                         Guatemala           Beer   \n",
            "21  1989   Americas                        Costa Rica        Spirits   \n",
            "29  1986     Europe                             Italy          Other   \n",
            "34  1986     Europe                Russian Federation           Wine   \n",
            "37  1986     Europe                            Sweden           Beer   \n",
            "41  1986     Europe                    Czech Republic           Beer   \n",
            "47  1986   Americas                            Mexico          Other   \n",
            "49  1986     Europe                             Malta           Wine   \n",
            "55  1989   Americas                          Suriname           Wine   \n",
            "57  1989     Europe                           Croatia           Wine   \n",
            "64  1989   Americas  Bolivia (Plurinational State of)           Beer   \n",
            "74  1986   Americas  Bolivia (Plurinational State of)        Spirits   \n",
            "78  1989   Americas                           Jamaica          Other   \n",
            "79  1989     Europe                           Finland          Other   \n",
            "83  1986     Europe                           Ukraine          Other   \n",
            "86  1986   Americas                           Bahamas           Wine   \n",
            "91  1989     Europe                          Bulgaria           Beer   \n",
            "\n",
            "    Display Value  \n",
            "1            0.50  \n",
            "3            4.27  \n",
            "8            1.55  \n",
            "11           0.62  \n",
            "21           4.51  \n",
            "29            NaN  \n",
            "34           0.80  \n",
            "37           3.04  \n",
            "41           6.82  \n",
            "47           0.04  \n",
            "49           1.49  \n",
            "55           0.04  \n",
            "57           5.10  \n",
            "64           1.26  \n",
            "74           2.06  \n",
            "78           0.00  \n",
            "79           2.09  \n",
            "83            NaN  \n",
            "86           1.83  \n",
            "91           4.43  \n"
          ]
        }
      ]
    },
    {
      "cell_type": "markdown",
      "source": [
        "###Q 7.5\n",
        "filter those records which **not appears** in a given list from Alcohol_Dataset.<br>\n",
        "\n",
        "Given list:<br>\n",
        "\"Africa\", \"Eastern Mediterranean\", \"Europe\""
      ],
      "metadata": {
        "id": "_-mC1ZvRTI32"
      }
    },
    {
      "cell_type": "code",
      "source": [
        "#filter data\n",
        "regions_to_exclude = [\"Africa\", \"Eastern Mediterranean\", \"Europe\"]\n",
        "filtered_df = df[~df['WHO region'].isin(regions_to_exclude)]\n",
        "print(filtered_df)"
      ],
      "metadata": {
        "id": "wfDQs1B_TWnD",
        "colab": {
          "base_uri": "https://localhost:8080/"
        },
        "outputId": "2a4e3f72-411c-4959-af2d-5b9cd6110b99"
      },
      "execution_count": null,
      "outputs": [
        {
          "output_type": "stream",
          "name": "stdout",
          "text": [
            "    Year       WHO region                                Country  \\\n",
            "0   1986  Western Pacific                               Viet Nam   \n",
            "1   1986         Americas                                Uruguay   \n",
            "3   1986         Americas                               Colombia   \n",
            "4   1987         Americas                  Saint Kitts and Nevis   \n",
            "5   1987         Americas                              Guatemala   \n",
            "8   1986         Americas                    Antigua and Barbuda   \n",
            "11  1989         Americas                              Guatemala   \n",
            "12  1985  Western Pacific       Lao People's Democratic Republic   \n",
            "14  1985  Western Pacific                               Viet Nam   \n",
            "16  1984         Americas                             Costa Rica   \n",
            "20  1986  South-East Asia                                Myanmar   \n",
            "21  1989         Americas                             Costa Rica   \n",
            "28  1987  Western Pacific                               Viet Nam   \n",
            "31  1986  Western Pacific       Micronesia (Federated States of)   \n",
            "35  1985         Americas                  Saint Kitts and Nevis   \n",
            "43  1984  Western Pacific                                  China   \n",
            "46  1987         Americas                    Trinidad and Tobago   \n",
            "47  1986         Americas                                 Mexico   \n",
            "48  1987         Americas                              Nicaragua   \n",
            "54  1984         Americas                            El Salvador   \n",
            "55  1989         Americas                               Suriname   \n",
            "56  1987  Western Pacific                               Viet Nam   \n",
            "61  1984  Western Pacific                       Papua New Guinea   \n",
            "62  1987         Americas                               Suriname   \n",
            "64  1989         Americas       Bolivia (Plurinational State of)   \n",
            "74  1986         Americas       Bolivia (Plurinational State of)   \n",
            "78  1989         Americas                                Jamaica   \n",
            "84  1986  South-East Asia                              Sri Lanka   \n",
            "86  1986         Americas                                Bahamas   \n",
            "97  1984  South-East Asia                              Indonesia   \n",
            "99  1985  South-East Asia  Democratic People's Republic of Korea   \n",
            "\n",
            "   Beverage Types  Display Value  \n",
            "0            Wine           0.00  \n",
            "1           Other           0.50  \n",
            "3            Beer           4.27  \n",
            "4            Beer           1.98  \n",
            "5           Other           0.00  \n",
            "8         Spirits           1.55  \n",
            "11           Beer           0.62  \n",
            "12           Beer           0.00  \n",
            "14        Spirits           0.05  \n",
            "16           Wine           0.06  \n",
            "20           Wine           0.00  \n",
            "21        Spirits           4.51  \n",
            "28           Beer           0.11  \n",
            "31           Wine           0.00  \n",
            "35        Spirits           2.24  \n",
            "43           Wine           0.03  \n",
            "46        Spirits           2.26  \n",
            "47          Other           0.04  \n",
            "48           Beer           0.70  \n",
            "54        Spirits           1.81  \n",
            "55           Wine           0.04  \n",
            "56           Wine           0.00  \n",
            "61        Spirits           0.08  \n",
            "62          Other           0.00  \n",
            "64           Beer           1.26  \n",
            "74        Spirits           2.06  \n",
            "78          Other           0.00  \n",
            "84          Other           0.00  \n",
            "86           Wine           1.83  \n",
            "97           Wine           0.00  \n",
            "99           Wine           0.00  \n"
          ]
        }
      ]
    },
    {
      "cell_type": "markdown",
      "source": [
        "###Q 7.6\n",
        "find average consumption of wine per person greater than 2 in Alcohol_Dataset."
      ],
      "metadata": {
        "id": "w4BsKSdDTC5x"
      }
    },
    {
      "cell_type": "code",
      "source": [
        "#calculate average\n",
        "wine_df = df[df['Beverage Types'] == 'Wine']\n",
        "wine_df = wine_df[wine_df['Display Value'] > 2]\n",
        "\n",
        "# Calculate the average consumption of wine per person\n",
        "average_wine_consumption = wine_df['Display Value'].mean()\n",
        "\n",
        "# Display the result\n",
        "print(\"\\nAverage consumption of wine per person greater than 2:\")\n",
        "print(average_wine_consumption)"
      ],
      "metadata": {
        "id": "D97qG_gQTDVg",
        "colab": {
          "base_uri": "https://localhost:8080/"
        },
        "outputId": "e1497318-a312-4a22-cf86-2b262789c151"
      },
      "execution_count": null,
      "outputs": [
        {
          "output_type": "stream",
          "name": "stdout",
          "text": [
            "\n",
            "Average consumption of wine per person greater than 2:\n",
            "5.006666666666667\n"
          ]
        }
      ]
    },
    {
      "cell_type": "markdown",
      "source": [
        "###Q 7.7\n",
        "filter all records where the average consumption of beverages per person from .5 to 2.50 in Alcohol_Dataset"
      ],
      "metadata": {
        "id": "OQrzGYxjWPg-"
      }
    },
    {
      "cell_type": "code",
      "source": [
        "#filter data\n",
        "average_consumption_per_person = df.groupby(['Year', 'WHO region','Country'])['Display Value'].mean().reset_index()\n",
        "\n",
        "# Filter rows based on the condition (average consumption of beverages per person from 0.5 to 2.5)\n",
        "filtered_consumption = average_consumption_per_person[(average_consumption_per_person['Display Value'] >= 0.5) & (average_consumption_per_person['Display Value'] <= 2.5)]\n",
        "\n",
        "# Display the filtered DataFrame\n",
        "print(\"Filtered DataFrame:\")\n",
        "print(filtered_consumption)"
      ],
      "metadata": {
        "id": "hnkLi49_Wa49",
        "colab": {
          "base_uri": "https://localhost:8080/"
        },
        "outputId": "f6d5346e-6be6-4341-ee99-07d7bf87f338"
      },
      "execution_count": null,
      "outputs": [
        {
          "output_type": "stream",
          "name": "stdout",
          "text": [
            "Filtered DataFrame:\n",
            "    Year             WHO region  \\\n",
            "1   1984                 Africa   \n",
            "5   1984               Americas   \n",
            "7   1984  Eastern Mediterranean   \n",
            "11  1984                 Europe   \n",
            "21  1985                 Africa   \n",
            "23  1985                 Africa   \n",
            "24  1985                 Africa   \n",
            "26  1985               Americas   \n",
            "33  1985                 Europe   \n",
            "38  1986                 Africa   \n",
            "41  1986               Americas   \n",
            "42  1986               Americas   \n",
            "43  1986               Americas   \n",
            "46  1986               Americas   \n",
            "47  1986  Eastern Mediterranean   \n",
            "52  1986                 Europe   \n",
            "53  1986                 Europe   \n",
            "67  1987               Americas   \n",
            "68  1987               Americas   \n",
            "70  1987               Americas   \n",
            "76  1987                 Europe   \n",
            "78  1987                 Europe   \n",
            "81  1989                 Africa   \n",
            "83  1989                 Africa   \n",
            "86  1989               Americas   \n",
            "88  1989               Americas   \n",
            "97  1989                 Europe   \n",
            "\n",
            "                                              Country  Display Value  \n",
            "1                                               Kenya           1.08  \n",
            "5                                         El Salvador           1.81  \n",
            "7                                             Bahrain           2.22  \n",
            "11                                             Norway           1.62  \n",
            "21                                       Cte d'Ivoire           1.62  \n",
            "23                                             Malawi           0.84  \n",
            "24                                               Mali           0.57  \n",
            "26                              Saint Kitts and Nevis           2.24  \n",
            "33  United Kingdom of Great Britain and Northern I...           1.36  \n",
            "38                                         Madagascar           1.02  \n",
            "41                                Antigua and Barbuda           1.55  \n",
            "42                                            Bahamas           1.83  \n",
            "43                   Bolivia (Plurinational State of)           2.06  \n",
            "46                                            Uruguay           0.50  \n",
            "47                                            Lebanon           0.70  \n",
            "52                                              Malta           1.49  \n",
            "53                                 Russian Federation           0.80  \n",
            "67                                          Nicaragua           0.70  \n",
            "68                              Saint Kitts and Nevis           1.98  \n",
            "70                                Trinidad and Tobago           2.26  \n",
            "76                                            Austria           1.90  \n",
            "78                                            Ireland           2.25  \n",
            "81                                          Mauritius           1.60  \n",
            "83                                         Seychelles           2.23  \n",
            "86                   Bolivia (Plurinational State of)           1.26  \n",
            "88                                          Guatemala           0.62  \n",
            "97                                            Finland           2.09  \n"
          ]
        }
      ]
    },
    {
      "cell_type": "markdown",
      "source": [
        "##Exercise 8\n",
        "<table style=\"width:100%\">\n",
        "    <tr>\n",
        "        <th>Dataframe index</th>\n",
        "        <th>ord_no</th>\n",
        "        <th>purch_amt</th>\n",
        "        <th>ord_date</th>\n",
        "        <th>customer_id</th>\n",
        "        <th>salesman_id</th>\n",
        "    </tr>\n",
        "    <tr>    \n",
        "        <td>0 </td>   \n",
        "        <td>70001</td>   \n",
        "        <td> 150.50</td>  \n",
        "        <td>2012-10-05</td>         \n",
        "        <td>3005</td>         \n",
        "        <td>5002</td>\n",
        "    </tr>\n",
        "    <tr>    \n",
        "        <td>1 </td>   \n",
        "        <td>70009</td>   \n",
        "        <td> 270.65</td>  \n",
        "        <td>2012-09-10</td>         \n",
        "        <td>3001</td>         \n",
        "        <td>5005</td>\n",
        "    </tr>\n",
        "    <tr>    \n",
        "        <td>2 </td>   \n",
        "        <td>70002</td>   \n",
        "        <td>  65.26</td>  \n",
        "        <td>2012-10-05</td>         \n",
        "        <td>3002</td>         \n",
        "        <td>5001</td>\n",
        "    </tr>\n",
        "    <tr>    \n",
        "        <td>3 </td>   \n",
        "        <td>70004</td>   \n",
        "        <td> 110.50</td>  \n",
        "        <td>2012-08-17</td>         \n",
        "        <td>3009</td>         \n",
        "        <td>5003</td>\n",
        "    </tr>\n",
        "    <tr>    \n",
        "        <td>4 </td>   \n",
        "        <td>70007</td>   \n",
        "        <td> 948.50</td>  \n",
        "        <td>2012-09-10</td>         \n",
        "        <td>3005</td>         \n",
        "        <td>5002</td>\n",
        "    </tr>\n",
        "    <tr>    \n",
        "        <td>5 </td>   \n",
        "        <td>70005</td>   \n",
        "        <td>2400.60</td>  \n",
        "        <td>2012-07-27</td>         \n",
        "        <td>3007</td>         \n",
        "        <td>5001</td>\n",
        "    </tr>\n",
        "    <tr>    \n",
        "        <td>6 </td>   \n",
        "        <td>70008</td>   \n",
        "        <td>5760.00</td>  \n",
        "        <td>2012-09-10</td>         \n",
        "        <td>3002</td>         \n",
        "        <td>5001</td>\n",
        "    </tr>\n",
        "    <tr>    \n",
        "        <td>7 </td>   \n",
        "        <td>70010</td>   \n",
        "        <td>1983.43</td>  \n",
        "        <td>2012-10-10</td>         \n",
        "        <td>3004</td>         \n",
        "        <td>5006</td>\n",
        "    </tr>\n",
        "    <tr>    \n",
        "        <td>8 </td>   \n",
        "        <td>70003</td>   \n",
        "        <td>2480.40</td>  \n",
        "        <td>2012-10-10</td>         \n",
        "        <td>3009</td>         \n",
        "        <td>5003</td>\n",
        "    </tr>\n",
        "    <tr>    \n",
        "        <td>9 </td>   \n",
        "        <td>70012</td>   \n",
        "        <td> 250.45</td>  \n",
        "        <td>2012-06-27</td>         \n",
        "        <td>3008</td>         \n",
        "        <td>5002</td>\n",
        "    </tr>\n",
        "    <tr>    \n",
        "        <td>10</td>   \n",
        "        <td>70011</td>   \n",
        "        <td>  75.29</td>  \n",
        "        <td>2012-08-17</td>         \n",
        "        <td>3003</td>         \n",
        "        <td>5007</td>\n",
        "    </tr>\n",
        "    <tr>    \n",
        "        <td>11</td>   \n",
        "        <td>70013</td>   \n",
        "        <td>3045.60</td>  \n",
        "        <td>2012-04-25</td>         \n",
        "        <td>3002</td>         \n",
        "        <td>5001</td>\n",
        "    </tr>\n",
        "</table>"
      ],
      "metadata": {
        "id": "nLSl-ZetW6LY"
      }
    },
    {
      "cell_type": "code",
      "source": [
        "#import pandas libraries and name it to be pd.\n"
      ],
      "metadata": {
        "id": "EgmfFXoQZj7q"
      },
      "execution_count": null,
      "outputs": []
    },
    {
      "cell_type": "code",
      "source": [
        "#create dataframe\n",
        "\n",
        "\n",
        "#display original dataframe\n"
      ],
      "metadata": {
        "id": "BofaGgzaZcl5"
      },
      "execution_count": null,
      "outputs": []
    },
    {
      "cell_type": "markdown",
      "source": [
        "###Q 8.1\n",
        "Write a Pandas program to split a dataset, group by one column and get mean, min, and max values by group. Using the following dataset find the mean, min, and max values of purchase amount (purch_amt) group by customer id (customer_id)."
      ],
      "metadata": {
        "id": "oN8T-OnPtlE0"
      }
    },
    {
      "cell_type": "code",
      "source": [
        "#group by customer_id and find max, min, mean\n"
      ],
      "metadata": {
        "id": "crTGG01ctnX2"
      },
      "execution_count": null,
      "outputs": []
    },
    {
      "cell_type": "markdown",
      "source": [
        "###Q 8.2\n",
        "split a dataset to group by two columns and count by each row."
      ],
      "metadata": {
        "id": "I8KRH5r941k0"
      }
    },
    {
      "cell_type": "code",
      "source": [
        "#group by salesman_id and custimer_id, and count\n"
      ],
      "metadata": {
        "id": "NbH6JdVw48Yl"
      },
      "execution_count": null,
      "outputs": []
    },
    {
      "cell_type": "markdown",
      "source": [
        "###Q 8.3\n",
        "split the following dataframe into groups, group by month and year based on order date and find the total purchase amount year wise, month wise."
      ],
      "metadata": {
        "id": "8mSiR-Xo5EHU"
      }
    },
    {
      "cell_type": "code",
      "source": [
        "#group by date and time and find sum\n"
      ],
      "metadata": {
        "id": "erKXRJ8YV1qA"
      },
      "execution_count": null,
      "outputs": []
    },
    {
      "cell_type": "markdown",
      "source": [
        "##Exercise 9\n",
        "Given data\n",
        "```\n",
        "    ord_no   purch_amt    ord_date  customer_id  salesman_id\n",
        "0   70001.0     150.50  2012-10-05         3002       5002.0\n",
        "1       NaN     270.65  2012-09-10         3001       5003.0\n",
        "2   70002.0      65.26         NaN         3001       5001.0\n",
        "3   70004.0     110.50  2012-08-17         3003          NaN\n",
        "4       NaN     948.50  2012-09-10         3002       5002.0\n",
        "5   70005.0    2400.60  2012-07-27         3001       5001.0\n",
        "6       NaN    5760.00  2012-09-10         3001       5001.0\n",
        "7   70010.0    1983.43  2012-10-10         3004          NaN\n",
        "8   70003.0    2480.40  2012-10-10         3003       5003.0\n",
        "9   70012.0     250.45  2012-06-27         3002       5002.0\n",
        "10      NaN      75.29  2012-08-17         3001       5003.0\n",
        "11  70013.0    3045.60  2012-04-25         3001          NaN\n",
        "```\n",
        "\n"
      ],
      "metadata": {
        "id": "bOdxbcwpWAwL"
      }
    },
    {
      "cell_type": "code",
      "source": [
        "#import pandas and numpy libraries and name it to be pd and np, respectively.\n"
      ],
      "metadata": {
        "id": "JQa94OVZWhpp"
      },
      "execution_count": null,
      "outputs": []
    },
    {
      "cell_type": "code",
      "source": [
        "pd.set_option('display.max_rows', None)\n",
        "pd.set_option('display.max_columns', None)\n",
        "\n",
        "#create dataframe\n",
        "\n",
        "\n",
        "#display original dataframe\n"
      ],
      "metadata": {
        "id": "Krd9VqJhWdXG"
      },
      "execution_count": null,
      "outputs": []
    },
    {
      "cell_type": "markdown",
      "source": [
        "###Q 9.1\n",
        "detect missing values of a given DataFrame. Display True or False."
      ],
      "metadata": {
        "id": "lKQS__9KWktv"
      }
    },
    {
      "cell_type": "code",
      "source": [
        "#check nan value and display the result\n"
      ],
      "metadata": {
        "id": "hAkzQVp6Wjgn"
      },
      "execution_count": null,
      "outputs": []
    },
    {
      "cell_type": "markdown",
      "source": [
        "###Q 9.2\n",
        " identify the column(s) of a given DataFrame which have at least one missing value."
      ],
      "metadata": {
        "id": "XQ2PLF9wWp0w"
      }
    },
    {
      "cell_type": "code",
      "source": [
        "#check column that have least one missing value and display the result\n"
      ],
      "metadata": {
        "id": "iMudqO_CWxDX"
      },
      "execution_count": null,
      "outputs": []
    },
    {
      "cell_type": "markdown",
      "source": [
        "###Q 9.3\n",
        "count the number of missing values in each column of a given DataFrame."
      ],
      "metadata": {
        "id": "VS-iV3HiWxrh"
      }
    },
    {
      "cell_type": "code",
      "source": [
        "#count number of missing values in each column and display the result\n"
      ],
      "metadata": {
        "id": "HX09GdrnW53V"
      },
      "execution_count": null,
      "outputs": []
    },
    {
      "cell_type": "markdown",
      "source": [
        "###Q 9.4\n",
        "replace the missing values in a given DataFrame which do not have any valuable information."
      ],
      "metadata": {
        "id": "AqgISFTmW6ZG"
      }
    },
    {
      "cell_type": "code",
      "source": [
        "#replace nan by \"?\"\n",
        "\n",
        "\n",
        "#display result\n"
      ],
      "metadata": {
        "id": "61uMqcxOW-uM"
      },
      "execution_count": null,
      "outputs": []
    },
    {
      "cell_type": "markdown",
      "source": [
        "###Q 9.5\n",
        "drop the rows where at least one element is missing in a given DataFrame."
      ],
      "metadata": {
        "id": "hpYMUIATXC0C"
      }
    },
    {
      "cell_type": "code",
      "source": [
        "#drop rows that have nan value\n",
        "\n",
        "\n",
        "#display result\n"
      ],
      "metadata": {
        "id": "lsZS7IA6XL_Y"
      },
      "execution_count": null,
      "outputs": []
    },
    {
      "cell_type": "markdown",
      "source": [
        "###Q 9.6\n",
        "drop the columns where at least one element is missing in a given DataFrame."
      ],
      "metadata": {
        "id": "21Ww1zeLXIRp"
      }
    },
    {
      "cell_type": "code",
      "source": [
        "#drop columns that have nan value\n",
        "\n",
        "\n",
        "#display result\n"
      ],
      "metadata": {
        "id": "YCeN32GFXS0r"
      },
      "execution_count": null,
      "outputs": []
    },
    {
      "cell_type": "markdown",
      "source": [
        "##Exercise 10\n",
        "Create a dataframe of ten rows, four columns with random values. Convert some values to nan values. Write a Pandas program which will highlight the nan values.\n",
        "\n",
        "Given data\n",
        "\n",
        "```\n",
        "np.random.seed(24)\n",
        "df = pd.DataFrame({'A': np.linspace(1, 10, 10)})\n",
        "df = pd.concat([df, pd.DataFrame(np.random.randn(10, 4), columns=list('BCDE'))], axis=1)\n",
        "df.iloc[0, 2] = np.nan\n",
        "df.iloc[3, 3] = np.nan\n",
        "df.iloc[4, 1] = np.nan\n",
        "df.iloc[9, 4] = np.nan\n",
        "```\n",
        "\n"
      ],
      "metadata": {
        "id": "AX741MBSXiQ_"
      }
    },
    {
      "cell_type": "code",
      "source": [
        "#import pandas and numpy libraries and name it to be pd and np, respectively.\n"
      ],
      "metadata": {
        "id": "NvjtzywrHYQ6"
      },
      "execution_count": null,
      "outputs": []
    },
    {
      "cell_type": "code",
      "source": [
        "#create dataframe\n",
        "\n",
        "\n",
        "#display original dataframe\n"
      ],
      "metadata": {
        "id": "fNqtyq_vHaN6"
      },
      "execution_count": null,
      "outputs": []
    },
    {
      "cell_type": "code",
      "source": [
        "#define function for fill color\n",
        "\n",
        "\n",
        "#call function and display result\n"
      ],
      "metadata": {
        "id": "ogyc-AVFYPMq"
      },
      "execution_count": null,
      "outputs": []
    },
    {
      "cell_type": "markdown",
      "source": [
        "##Question 1\n",
        "You and your spouse decided to let the internet name your next child. You’ve asked the great people of the web to submit their favorite names, and you’ve compiled their submissions into a Series called \"babynames\".\n",
        "\n",
        "Voting result from internet\n",
        "```\n",
        "babynames =\n",
        "    { 'Jathonathon', 'Zeltron', 'Ruger', 'Phreddy', 'Ruger', 'Chad', 'Chad',\n",
        "    'Ruger', 'Ryan', 'Ruger', 'Chad', 'Ryan', 'Phreddy', 'Phreddy', 'Phreddy',\n",
        "    'Mister', 'Zeltron', 'Ryan', 'Ruger', 'Ruger', 'Jathonathon',\n",
        "    'Jathonathon', 'Ruger', 'Chad', 'Zeltron' }\n",
        "```\n",
        "Determine how many people voted for the names ‘Chad’, ‘Ruger’, and ‘Zeltron’."
      ],
      "metadata": {
        "id": "B0OM3i9Yq1Z7"
      }
    },
    {
      "cell_type": "code",
      "source": [
        "\n"
      ],
      "metadata": {
        "id": "x8i20vgHrS3o"
      },
      "execution_count": null,
      "outputs": []
    },
    {
      "cell_type": "markdown",
      "source": [
        "##Question 2\n",
        "Create, two Series bees and knees. The bees series contain \"True, True, False, np.nan, True, False, True, np.nan\" respectively and, the knees series contain [5,2,9,1,3,10,5,6] and index is [7,0,2,6,3,5,1,4].\n",
        "<br>\n",
        "<br>\n",
        "If the i<sup>th</sup> value of bees is NaN, double the i<sup>th</sup> value inside knees.\n",
        "<br>\n",
        "Expected output:\n",
        "\n",
        "```\n",
        "bees\n",
        "# 0     True\n",
        "# 1     True\n",
        "# 2    False\n",
        "# 3      NaN\n",
        "# 4     True\n",
        "# 5    False\n",
        "# 6     True\n",
        "# 7      NaN\n",
        "\n",
        "knees\n",
        "# 7     5\n",
        "# 0     2\n",
        "# 2     9\n",
        "# 6     1  <-- double this\n",
        "# 3     3\n",
        "# 5    10\n",
        "# 1     5\n",
        "# 4     6  <-- double this\n",
        "```\n",
        "\n",
        "\n",
        "<i>Hint: to_numpy</i>"
      ],
      "metadata": {
        "id": "t88lNrXJrdh7"
      }
    },
    {
      "cell_type": "code",
      "source": [],
      "metadata": {
        "id": "CL4jkI70r3Jz"
      },
      "execution_count": null,
      "outputs": []
    },
    {
      "cell_type": "markdown",
      "source": [
        "##Question 3\n",
        "You have a DataFrame called schedules that represents the daily schedule of each student in a school. For example, If Ryan attends four classes - math, english, history, and chemistry, your schedules DataFrame will have four rows for Ryan in the order he attends each class.\n",
        "\n",
        "\n",
        "Given data\n",
        "```\n",
        "generator = np.random.default_rng(seed=1234)\n",
        "classes = ['english', 'math', 'history', 'chemistry', 'gym', 'civics', 'writing', 'engineering']\n",
        "\n",
        "schedules = pd.DataFrame({\n",
        "    'student_id':np.repeat(np.arange(100), 4),\n",
        "    'class':generator.choice(classes, size=400, replace=True)\n",
        "}).drop_duplicates()\n",
        "schedules['grade'] = generator.integers(101, size=schedules.shape[0])\n",
        "\n",
        "print(schedules)\n",
        "```\n",
        "\n",
        "You have this theory that the sequence of class-to-class transitions affects students' grades. For instance, you suspect Ryan would do better in his Chemistry class if it immediately followed his Math class instead of his History class.\n",
        "<br>\n",
        "<br>\n",
        "Determine the average and median Chemistry grade for groups of students based on the class they have immediately prior to Chemistry. Also report how many students fall into each group.\n",
        "\n"
      ],
      "metadata": {
        "id": "tgY0iIdOh3H5"
      }
    },
    {
      "cell_type": "code",
      "source": [],
      "metadata": {
        "id": "NcUKLU7m6t8p"
      },
      "execution_count": null,
      "outputs": []
    },
    {
      "cell_type": "markdown",
      "source": [
        "##Question 4\n",
        "You own a gym 💪🏾 for pregnant women 🤰🏾 called “OB-GYM” and you recently opened a second location. You’d like to analyze its performance, but your reporting software has given you the sales data in an awkward format.\n",
        "\n",
        "Given data\n",
        "\n",
        "```\n",
        "generator = np.random.default_rng(314)\n",
        "\n",
        "sales = pd.DataFrame({\n",
        "    'date':pd.date_range(start = '2020-01-01', periods=5).repeat(2),\n",
        "    'store_id':np.tile([1,2], 5),\n",
        "    'sales1':np.round(generator.normal(loc=750, scale=20, size=10), 2),\n",
        "    'sales2':np.round(generator.normal(loc=650, scale=40, size=10), 2),\n",
        "    'members':generator.integers(low=20, high=25, size=10)\n",
        "})\n",
        "sales.loc[sales.store_id == 2, 'sales1'] = np.nan\n",
        "sales.loc[sales.store_id == 1, 'sales2'] = np.nan\n",
        "\n",
        "print(sales)\n",
        "```\n",
        "\n",
        "The result after generate the data.\n",
        "```\n",
        "#         date  store_id  sales1  sales2  members\n",
        "# 0 2020-01-01         1  737.54     NaN       22\n",
        "# 1 2020-01-01         2     NaN  629.00       20\n",
        "# 2 2020-01-02         1  750.75     NaN       23\n",
        "# 3 2020-01-02         2     NaN  699.01       22\n",
        "# 4 2020-01-03         1  750.60     NaN       20\n",
        "# 5 2020-01-03         2     NaN  640.20       24\n",
        "# 6 2020-01-04         1  752.65     NaN       21\n",
        "# 7 2020-01-04         2     NaN  695.64       22\n",
        "# 8 2020-01-05         1  747.02     NaN       20\n",
        "# 9 2020-01-05         2     NaN  632.40       22\n",
        "```\n",
        "\n",
        "Reshape it into a DataFrame like this\n",
        "\n",
        "\n",
        "```\n",
        "#               sales_1  sales_2  members_1  members_2\n",
        "# date\n",
        "# 2020-01-01    737.54    629.00         22         20\n",
        "# 2020-01-02    750.75    699.01         23         22\n",
        "# 2020-01-03    750.60    640.20         20         24\n",
        "# 2020-01-04    752.65    695.64         21         22\n",
        "# 2020-01-05    747.02    632.40         20         22\n",
        "```\n",
        "\n",
        "\n"
      ],
      "metadata": {
        "id": "UWqJYod-lyFE"
      }
    },
    {
      "cell_type": "code",
      "source": [],
      "metadata": {
        "id": "MlXXgmmkHBFe"
      },
      "execution_count": null,
      "outputs": []
    },
    {
      "cell_type": "markdown",
      "source": [
        "##Question 5\n",
        "You polled five heterosexual couples on their hobbies.\n",
        "\n",
        "Given data\n",
        "```\n",
        "couples = pd.DataFrame({\n",
        "    'man': [\n",
        "        ['fishing', 'biking', 'reading'],\n",
        "        ['hunting', 'mudding', 'fishing'],\n",
        "        ['reading', 'movies', 'running'],\n",
        "        ['running', 'reading', 'biking', 'mudding'],\n",
        "        ['movies', 'reading', 'yodeling']\n",
        "    ],\n",
        "    'woman': [\n",
        "        ['biking', 'reading', 'movies'],\n",
        "        ['fishing', 'drinking'],\n",
        "        ['knitting', 'reading'],\n",
        "        ['running', 'biking', 'fishing', 'movies'],\n",
        "        ['movies']\n",
        "    ]\n",
        "})\n",
        "\n",
        "print(couples)\n",
        "```\n",
        "\n",
        "For each couple, determine what hobbies each man has that his wife doesn’t and what hobbies each woman has that her husband doesn’t."
      ],
      "metadata": {
        "id": "jMeD4WpT2_8j"
      }
    },
    {
      "cell_type": "code",
      "source": [],
      "metadata": {
        "id": "PfbACwxgSegk"
      },
      "execution_count": null,
      "outputs": []
    }
  ]
}